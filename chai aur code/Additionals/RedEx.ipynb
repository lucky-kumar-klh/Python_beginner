{
 "cells": [
  {
   "cell_type": "markdown",
   "metadata": {},
   "source": [
    "A RegEx, or Regular Expression, is a sequence of characters that forms a search pattern.\n",
    "\n",
    "RegEx can be used to check if a string contains the specified search pattern."
   ]
  },
  {
   "cell_type": "code",
   "execution_count": 22,
   "metadata": {},
   "outputs": [
    {
     "name": "stdout",
     "output_type": "stream",
     "text": [
      "The rain in Spain\n",
      "<re.Match object; span=(0, 17), match='The rain in Spain'>\n",
      "['Sp']\n"
     ]
    }
   ],
   "source": [
    "import re\n",
    "\n",
    "sentence = \"The rain in Spain\"\n",
    "sentence_search = re.search(\"^The.*Spain$\", sentence)\n",
    "sentence_findall = re.findall(\"Sp\", sentence)\n",
    "sub = re.sub(\"The\", \"A\", sentence)\n",
    "print(sentence)\n",
    "print(sentence_search)\n",
    "print(sentence_findall)"
   ]
  }
 ],
 "metadata": {
  "kernelspec": {
   "display_name": "Python 3",
   "language": "python",
   "name": "python3"
  },
  "language_info": {
   "name": "python",
   "version": "3.12.2"
  }
 },
 "nbformat": 4,
 "nbformat_minor": 2
}
