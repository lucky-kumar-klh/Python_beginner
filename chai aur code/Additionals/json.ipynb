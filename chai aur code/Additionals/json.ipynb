{
 "cells": [
  {
   "cell_type": "markdown",
   "metadata": {},
   "source": [
    "JSON TO PYTHON -> How to use json string in python\n"
   ]
  },
  {
   "cell_type": "code",
   "execution_count": 2,
   "metadata": {
    "tags": []
   },
   "outputs": [
    {
     "name": "stdout",
     "output_type": "stream",
     "text": [
      "Lucky Kumar\n"
     ]
    }
   ],
   "source": [
    "import json\n",
    "\n",
    "json_content = '{\"name\": \"Lucky Kumar\", \"age\": 19, \"college\": \"KL University\"}'\n",
    "copy_content = json.loads(json_content)\n",
    "\n",
    "print(copy_content[\"name\"])"
   ]
  },
  {
   "cell_type": "markdown",
   "metadata": {},
   "source": [
    "PYTHON TO JSON (json string)\n",
    "\n",
    "You can convert Python objects like dict, list, tuple, string, int, float,\n",
    "True, False & None into JSON strings:"
   ]
  },
  {
   "cell_type": "code",
   "execution_count": 3,
   "metadata": {},
   "outputs": [
    {
     "name": "stdout",
     "output_type": "stream",
     "text": [
      "{\n",
      "    \"age\" = 19 \n",
      "    \"college\" = \"KL University\" \n",
      "    \"name\" = \"Lucky Kumar\"\n",
      "}\n",
      "{\"1\": \"a\", \"2\": \"b\", \"3\": \"c\"}\n",
      "[12, 15, 9, 4]\n",
      "[1, 12, 34]\n",
      "null\n",
      "true\n",
      "45.78\n"
     ]
    }
   ],
   "source": [
    "my_dictionary = {\n",
    "    'name': 'Lucky Kumar',\n",
    "    'age': 19,\n",
    "    'college': 'KL University'\n",
    "}\n",
    "\n",
    "# Format the content to json format\n",
    "to_json = json.dumps(my_dictionary, indent = 4, separators = (' ', ' = '), sort_keys = True)\n",
    "print(to_json)\n",
    "\n",
    "# Similarly for more data types \n",
    "print(json.dumps({1: 'a', 2: 'b', 3: 'c'}))   # Dictionary\n",
    "print(json.dumps([12, 15, 9, 4]))    # List\n",
    "print(json.dumps((1, 12, 34)))    # Tuple\n",
    "print(json.dumps(None))    # None\n",
    "print(json.dumps(True))   # Bool\n",
    "print(json.dumps(45.78))    # Float, Int"
   ]
  },
  {
   "cell_type": "code",
   "execution_count": null,
   "metadata": {},
   "outputs": [],
   "source": []
  }
 ],
 "metadata": {
  "kernelspec": {
   "display_name": "Python 3",
   "language": "python",
   "name": "python3"
  },
  "language_info": {
   "codemirror_mode": {
    "name": "ipython",
    "version": 3
   },
   "file_extension": ".py",
   "mimetype": "text/x-python",
   "name": "python",
   "nbconvert_exporter": "python",
   "pygments_lexer": "ipython3",
   "version": "3.12.2"
  }
 },
 "nbformat": 4,
 "nbformat_minor": 2
}
