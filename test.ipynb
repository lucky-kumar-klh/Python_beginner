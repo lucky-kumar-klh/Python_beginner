{
 "cells": [
  {
   "cell_type": "code",
   "execution_count": 47,
   "metadata": {},
   "outputs": [
    {
     "name": "stdout",
     "output_type": "stream",
     "text": [
      "0 1 1 2 3 5 8 13 21 34 55 89 144 233 377 610 987 1597 2584 4181 \n",
      "Total Time: 0.2532005310058594s\n"
     ]
    }
   ],
   "source": [
    "import time\n",
    "\n",
    "def fibo_loop():\n",
    "    a, b = 0, 1\n",
    "    c = a\n",
    "    n = int(input())\n",
    "    start = time.time()\n",
    "    for _ in range(n):\n",
    "        print(c, end = ' ')\n",
    "        a, b = b, c\n",
    "        c = a + b\n",
    "        \n",
    "    end = time.time()\n",
    "    print(f'\\nTotal Time: {(end - start)*1000}s')\n",
    "\n",
    "# Fibonacci using Loop\n",
    "fibo_loop()\n",
    "\n"
   ]
  },
  {
   "cell_type": "code",
   "execution_count": 65,
   "metadata": {},
   "outputs": [
    {
     "name": "stdout",
     "output_type": "stream",
     "text": [
      "0 1 None None None None None None None None \n",
      "Total Time: 0.9257793426513672s\n",
      "Total Calls: 13\n"
     ]
    }
   ],
   "source": [
    "import time\n",
    "\n",
    "cache = dict()\n",
    "total_calls = 0\n",
    "\n",
    "# Using cache system to reduce number of calls in recursion\n",
    "def fibo_recursive(n):\n",
    "    global total_calls, cache\n",
    "    if n in cache: return cache[n]\n",
    "    else:\n",
    "        total_calls += 1\n",
    "\n",
    "        if n < 2: return n\n",
    "        # return fibo_recursive(n-1) + fibo_recursive(n-2)\n",
    "        else: cache[n] = fibo_recursive(n-1) + fibo_recursive(n-2)\n",
    "\n",
    "# Fibonacci using Recursion\n",
    "n = int(input())\n",
    "start = time.time()\n",
    "for _ in range(n):\n",
    "    print(f'{fibo_recursive(_)}', end = ' ')\n",
    "end = time.time()\n",
    "print(f'\\nTotal Time: {(end - start)*1000}s')\n",
    "print(f'Total Calls: {total_calls}')"
   ]
  }
 ],
 "metadata": {
  "kernelspec": {
   "display_name": "Python 3",
   "language": "python",
   "name": "python3"
  },
  "language_info": {
   "codemirror_mode": {
    "name": "ipython",
    "version": 3
   },
   "file_extension": ".py",
   "mimetype": "text/x-python",
   "name": "python",
   "nbconvert_exporter": "python",
   "pygments_lexer": "ipython3",
   "version": "3.12.2"
  }
 },
 "nbformat": 4,
 "nbformat_minor": 2
}
