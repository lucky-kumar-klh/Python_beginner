{
 "cells": [
  {
   "cell_type": "code",
   "execution_count": 78,
   "metadata": {},
   "outputs": [
    {
     "name": "stdout",
     "output_type": "stream",
     "text": [
      "0 1 1 2 3 5 \n",
      "Total Time: 0.22983551025390625s\n"
     ]
    }
   ],
   "source": [
    "import time\n",
    "\n",
    "def fibo_loop():\n",
    "    a, b = 0, 1\n",
    "    c = a\n",
    "    n = int(input())\n",
    "    start = time.time()\n",
    "    for _ in range(n):\n",
    "        print(c, end = ' ')\n",
    "        a, b = b, c\n",
    "        c = a + b\n",
    "        \n",
    "    end = time.time()\n",
    "    print(f'\\nTotal Time: {(end - start)*1000}s')\n",
    "\n",
    "# Fibonacci using Loop\n",
    "fibo_loop()\n",
    "\n"
   ]
  },
  {
   "cell_type": "markdown",
   "metadata": {},
   "source": [
    "# Memoization"
   ]
  },
  {
   "cell_type": "code",
   "execution_count": 79,
   "metadata": {},
   "outputs": [
    {
     "name": "stdout",
     "output_type": "stream",
     "text": [
      "0 1 1 2 3 5 \n",
      "Total Time: 0.4329681396484375s\n",
      "Total Calls: 14\n"
     ]
    }
   ],
   "source": [
    "import time\n",
    "\n",
    "cache = {0: 0, 1: 1}\n",
    "total_calls = 0\n",
    "\n",
    "# Using cache system to reduce number of calls in recursion\n",
    "def fibo_recursive(n):\n",
    "    global total_calls, cache\n",
    "\n",
    "    total_calls += 1\n",
    "\n",
    "    if n in cache: \n",
    "        return cache[n]\n",
    "    \n",
    "    result = fibo_recursive(n-1) + fibo_recursive(n-2)\n",
    "    cache[n] = result\n",
    "    \n",
    "    return result\n",
    "\n",
    "# Fibonacci using Recursion\n",
    "n = int(input())\n",
    "start = time.time()\n",
    "for _ in range(n):\n",
    "    print(f'{fibo_recursive(_)}', end = ' ')\n",
    "end = time.time()\n",
    "print(f'\\nTotal Time: {(end - start)*1000}s')\n",
    "print(f'Total Calls: {total_calls}')"
   ]
  },
  {
   "cell_type": "code",
   "execution_count": null,
   "metadata": {},
   "outputs": [],
   "source": []
  }
 ],
 "metadata": {
  "kernelspec": {
   "display_name": "Python 3",
   "language": "python",
   "name": "python3"
  },
  "language_info": {
   "codemirror_mode": {
    "name": "ipython",
    "version": 3
   },
   "file_extension": ".py",
   "mimetype": "text/x-python",
   "name": "python",
   "nbconvert_exporter": "python",
   "pygments_lexer": "ipython3",
   "version": "3.12.2"
  }
 },
 "nbformat": 4,
 "nbformat_minor": 2
}
