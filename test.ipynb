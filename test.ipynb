{
 "cells": [
  {
   "cell_type": "code",
   "execution_count": 14,
   "metadata": {},
   "outputs": [
    {
     "name": "stdout",
     "output_type": "stream",
     "text": [
      "0 1 1 2 3 5 8 13 21 34 \n",
      "Total Time: 5.931921005249023\n"
     ]
    }
   ],
   "source": [
    "import time\n",
    "\n",
    "def fibo_loop():\n",
    "    a, b = 0, 1\n",
    "    n = int(input())\n",
    "    start = time.time()\n",
    "    for _ in range(n):\n",
    "        print(f'{a} {b}', end = ' ')\n",
    "        a = a+b\n",
    "        b = a+b\n",
    "    end = time.time()\n",
    "    print(f'\\nTotal Time: {end - start}')\n",
    "\n",
    "def fibo_recursive(n):\n",
    "    pass\n",
    "\n",
    "# Fibonacci using Loop\n",
    "fibo_loop()\n",
    "\n",
    "# Fibonacci using Recursion\n",
    "# start = time.time()\n",
    "# for _ in range(int(input())):\n",
    "#     print(f'{fibo_recursive(_)}', end = ' ')\n",
    "# end = time.time()\n",
    "# print(f'\\nTotal Time: {end - start}')"
   ]
  }
 ],
 "metadata": {
  "kernelspec": {
   "display_name": "Python 3",
   "language": "python",
   "name": "python3"
  },
  "language_info": {
   "codemirror_mode": {
    "name": "ipython",
    "version": 3
   },
   "file_extension": ".py",
   "mimetype": "text/x-python",
   "name": "python",
   "nbconvert_exporter": "python",
   "pygments_lexer": "ipython3",
   "version": "3.12.2"
  }
 },
 "nbformat": 4,
 "nbformat_minor": 2
}
