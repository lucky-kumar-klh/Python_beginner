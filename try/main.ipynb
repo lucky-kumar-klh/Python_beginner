{
 "cells": [
  {
   "cell_type": "code",
   "execution_count": 2,
   "metadata": {},
   "outputs": [
    {
     "name": "stdout",
     "output_type": "stream",
     "text": [
      "1\n",
      "5\n",
      "2\n",
      "6\n",
      "3\n",
      "7\n",
      "4\n",
      "8\n",
      "9\n",
      "10\n",
      "Done!\n"
     ]
    }
   ],
   "source": [
    "import multiprocessing\n",
    "import print_numbers\n",
    "\n",
    "# Define the range of numbers to print\n",
    "start = 1\n",
    "end = 11\n",
    "\n",
    "# Create two processes to print numbers concurrently\n",
    "process1 = multiprocessing.Process(target=print_numbers.print_numbers, args=(start, end//2))\n",
    "process2 = multiprocessing.Process(target=print_numbers.print_numbers, args=(end//2, end))\n",
    "\n",
    "# Start the processes\n",
    "process1.start()\n",
    "process2.start()\n",
    "\n",
    "# Wait for both processes to finish\n",
    "process1.join()\n",
    "process2.join()\n",
    "\n",
    "print(\"Done!\")"
   ]
  }
 ],
 "metadata": {
  "kernelspec": {
   "display_name": "Python 3",
   "language": "python",
   "name": "python3"
  },
  "language_info": {
   "codemirror_mode": {
    "name": "ipython",
    "version": 3
   },
   "file_extension": ".py",
   "mimetype": "text/x-python",
   "name": "python",
   "nbconvert_exporter": "python",
   "pygments_lexer": "ipython3",
   "version": "3.12.2"
  }
 },
 "nbformat": 4,
 "nbformat_minor": 2
}
