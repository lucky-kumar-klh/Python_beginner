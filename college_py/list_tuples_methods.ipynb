{
 "cells": [
  {
   "cell_type": "code",
   "execution_count": 54,
   "metadata": {},
   "outputs": [
    {
     "name": "stdout",
     "output_type": "stream",
     "text": [
      "[11, 8, 1, 2, 3, 4, 5, 6]\n"
     ]
    }
   ],
   "source": [
    "alphabets  = ['a', 'b', 'c', 'd']\n",
    "numbers = [1,2,3,4,5,6,7]\n",
    "\n",
    "# SORT\n",
    "numbers.sort()  # Ascending Order\n",
    "numbers.sort(reverse = True)  # Descending Order\n",
    "\n",
    "# APPEND\n",
    "numbers.append(10)  # add element at end of list\n",
    "numbers.insert(1, 100)  # insert(index, element)\n",
    "numbers.extend([8,9,10,11])  # extends the list of elements, Syntax: .extend([\"element1\", \"element2\", \"1\", \"2\"])\n",
    "\n",
    "# REVERSE LIST\n",
    "numbers.reverse()\n",
    "\n",
    "# REMOVE\n",
    "numbers.remove(7)  # Removes 1st occurence of the element\n",
    "del numbers[1:3]  # Deletes the range/list of elements\n",
    "numbers.pop()  # Removes element at end\n",
    "numbers.pop(2)  # Removes element at index \n",
    "\n",
    "print(numbers)"
   ]
  },
  {
   "cell_type": "code",
   "execution_count": 9,
   "metadata": {},
   "outputs": [
    {
     "name": "stdout",
     "output_type": "stream",
     "text": [
      "(1, 2, 3, 4, 5)\n",
      "()\n",
      "<class 'tuple'>\n",
      "Single element:  (1,)  & Type:  <class 'tuple'>\n",
      "Element  4  is present at index  3\n",
      "1\n"
     ]
    }
   ],
   "source": [
    "# Tuples -> A list that is Immutable (cannot be changed like strings)\n",
    "\n",
    "'''\n",
    "Syntax:  tuple_name = (elements)\n",
    "\n",
    "Ex: tup = (1, 2, 3, 4, 5)\n",
    "'''\n",
    "\n",
    "tup = (1,2,3,4,5)\n",
    "print(tup)\n",
    "\n",
    "tuple = ()  # Empty Tuple\n",
    "print(tuple)\n",
    "print(type(tuple))\n",
    "\n",
    "# Use comma for single element tuple, Otherwise Python compiler will treat tuple as an Integer, Ex: tup = (5)\n",
    "singleton_tuple = (1,)  # Tuple having only 1 element should be written with ',' after element\n",
    "print(\"Single element: \", singleton_tuple, \" & Type: \", type(singleton_tuple))\n",
    "\n",
    "'''\n",
    "<<<  All Methods of list is applicable to yuple as well  >>> \n",
    "'''\n",
    "\n",
    "# Additional Tuple Methods\n",
    "\n",
    "# To find / search element in tuple\n",
    "print(\"Element \", tup[3], \" is present at index \", tup.index(4))\n",
    "\n",
    "# Count occurence of an element\n",
    "print(tup.count(2))"
   ]
  },
  {
   "cell_type": "code",
   "execution_count": 6,
   "metadata": {},
   "outputs": [
    {
     "name": "stdout",
     "output_type": "stream",
     "text": [
      "[1, 2, 3, 4, 5]\n",
      "[1, 2, 4, 5]\n",
      "Time taken:  13.081073760986328\n"
     ]
    }
   ],
   "source": [
    "import time\n",
    "start = time.time()\n",
    "\n",
    "list = [1,2,3,4,5]\n",
    "print(list)\n",
    "del list[2:3]\n",
    "print(list)\n",
    "\n",
    "end = time.time()\n",
    "\n",
    "print(\"Time taken: \", format((end-start)*1e+3))"
   ]
  },
  {
   "cell_type": "code",
   "execution_count": 42,
   "metadata": {},
   "outputs": [
    {
     "name": "stdout",
     "output_type": "stream",
     "text": [
      "Time taken:  0.5204677581787109\n"
     ]
    }
   ],
   "source": [
    "import time\n",
    "start = time.time()\n",
    "\n",
    "list = [1,2,3,4,5]\n",
    "list.pop()\n",
    "\n",
    "end = time.time()\n",
    "\n",
    "print(\"Time taken: \", format((end-start)*1e+3))"
   ]
  },
  {
   "cell_type": "code",
   "execution_count": 52,
   "metadata": {},
   "outputs": [
    {
     "name": "stdout",
     "output_type": "stream",
     "text": [
      "Time taken:  0.5543231964111328\n"
     ]
    }
   ],
   "source": [
    "import time\n",
    "start = time.time()\n",
    "\n",
    "list = [1,2,3,4,5]\n",
    "list.remove(4)\n",
    "\n",
    "end = time.time()\n",
    "\n",
    "print(\"Time taken: \", format((end-start)*1e+3))"
   ]
  },
  {
   "cell_type": "code",
   "execution_count": 75,
   "metadata": {},
   "outputs": [
    {
     "name": "stdout",
     "output_type": "stream",
     "text": [
      "Even List:  [1]\n",
      "Odd List:  [0, 2]\n",
      "Prime List:  [2]\n"
     ]
    }
   ],
   "source": [
    "def isPrime(n):\n",
    "    if (n == 1 or n == 0): \n",
    "        return False\n",
    "    \n",
    "    for i in range(2, n):\n",
    "        if (n % i == 0): \n",
    "            return False\n",
    "    return True\n",
    "\n",
    "even = []\n",
    "odd = []\n",
    "prime = []\n",
    "num = int(input(\"Enter number: \"))\n",
    "\n",
    "for i in range(num):\n",
    "    if (i%2 == 0):\n",
    "        odd.append(i)\n",
    "    else:\n",
    "        even.append(i)\n",
    "    if (isPrime(i)):\n",
    "        prime.append(i)\n",
    "\n",
    "print(\"Even List: \", even)\n",
    "print(\"Odd List: \", odd)\n",
    "print(\"Prime List: \", prime)"
   ]
  },
  {
   "cell_type": "code",
   "execution_count": 77,
   "metadata": {},
   "outputs": [
    {
     "name": "stdout",
     "output_type": "stream",
     "text": [
      "Prime List:  [2, 3, 5, 7, 11, 13, 17, 19, 23, 29, 31]\n"
     ]
    }
   ],
   "source": [
    "def isPrime(n):\n",
    "    if (n == 1 or n == 0):\n",
    "        return False\n",
    "    \n",
    "    for i in range(2, n):\n",
    "        if (n % i == 0): \n",
    "            return False\n",
    "    return True\n",
    "\n",
    "choice = int(input(\"0-Even\\n1-Odd\\n2-Prime\\nEnter Your Choice: \"))\n",
    "\n",
    "roll_number = int(input(\"Your Roll Number: \"))\n",
    "lastDigits = roll_number % 100\n",
    "\n",
    "even = []\n",
    "odd = []\n",
    "prime = []\n",
    "\n",
    "if (choice == 0):\n",
    "    for i in range(lastDigits+1):\n",
    "        if (i % 2 == 0):\n",
    "            even.append(i)\n",
    "\n",
    "elif (choice == 1):\n",
    "    for i in range(lastDigits+1):\n",
    "        if (i % 2 != 0):\n",
    "            odd.append(i)\n",
    "\n",
    "elif (choice == 2):\n",
    "    for i in range(lastDigits+1):\n",
    "        if (isPrime(i)):\n",
    "            prime.append(i)\n",
    "\n",
    "# print the list according to the user\n",
    "if (len(even) != 0):\n",
    "    print(\"Even List: \", even)\n",
    "elif (len(odd) != 0):\n",
    "    print(\"Odd List: \", odd)\n",
    "elif (len(prime) != 0):\n",
    "    print(\"Prime List: \", prime)"
   ]
  }
 ],
 "metadata": {
  "kernelspec": {
   "display_name": "Python 3",
   "language": "python",
   "name": "python3"
  },
  "language_info": {
   "codemirror_mode": {
    "name": "ipython",
    "version": 3
   },
   "file_extension": ".py",
   "mimetype": "text/x-python",
   "name": "python",
   "nbconvert_exporter": "python",
   "pygments_lexer": "ipython3",
   "version": "3.12.2"
  }
 },
 "nbformat": 4,
 "nbformat_minor": 2
}
