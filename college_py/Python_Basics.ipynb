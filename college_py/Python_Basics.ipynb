{
 "cells": [
  {
   "cell_type": "code",
   "execution_count": 1,
   "metadata": {},
   "outputs": [
    {
     "name": "stdout",
     "output_type": "stream",
     "text": [
      "0\n",
      "Hello World !!\n"
     ]
    }
   ],
   "source": [
    "# hellow world\n",
    "x = 0\n",
    "print(x)\n",
    "print(\"Hello World !!\")"
   ]
  },
  {
   "cell_type": "code",
   "execution_count": 16,
   "metadata": {},
   "outputs": [
    {
     "name": "stdout",
     "output_type": "stream",
     "text": [
      "12\n",
      "10\n",
      "10\n",
      "1000\n",
      "10000.0\n",
      "0.01\n",
      "1e+41\n",
      "inf\n"
     ]
    }
   ],
   "source": [
    "a = 10\n",
    "print(3 * 4)\n",
    "print(a)\n",
    "print(a)\n",
    "b = 1e-2\n",
    "c = 100000000000000000000000000000000000000000.0\n",
    "hi = 10_00  # _ is ignored\n",
    "print(hi)\n",
    "print(1e4)\n",
    "print(b)\n",
    "print(c)\n",
    "z = 2e400 # for very big number\n",
    "print(z)"
   ]
  },
  {
   "cell_type": "code",
   "execution_count": 18,
   "metadata": {},
   "outputs": [
    {
     "name": "stdout",
     "output_type": "stream",
     "text": [
      "4\n",
      "4\n",
      "4\n",
      "4\n",
      "4\n"
     ]
    }
   ],
   "source": [
    "print(1 - - 3)\n",
    "print(1--3)\n",
    "print(1- -3)\n",
    "print(1 --3)\n",
    "print(1 - (-3))  # better"
   ]
  },
  {
   "cell_type": "code",
   "execution_count": 22,
   "metadata": {},
   "outputs": [
    {
     "data": {
      "text/plain": [
       "0.5"
      ]
     },
     "execution_count": 22,
     "metadata": {},
     "output_type": "execute_result"
    }
   ],
   "source": [
    "1 / 2\n",
    "# 1 / 0  --> Error"
   ]
  },
  {
   "cell_type": "code",
   "execution_count": 1,
   "metadata": {},
   "outputs": [
    {
     "data": {
      "text/plain": [
       "1"
      ]
     },
     "execution_count": 1,
     "metadata": {},
     "output_type": "execute_result"
    }
   ],
   "source": [
    "# 2 / -1\n",
    "# 3 % 2\n",
    "# 5 / 3\n",
    "# 5 % 3\n",
    "# x % y \n",
    "# r = x - (y * (x // y))\n",
    "-5 % 3\n",
    "# r = -5 - (3 * (-5 // 3)), -5 // 3 => -1 => -2\n",
    "# -7 % 3 \n",
    "# 3 % -3"
   ]
  },
  {
   "cell_type": "code",
   "execution_count": 2,
   "metadata": {},
   "outputs": [
    {
     "data": {
      "text/plain": [
       "-14.0"
      ]
     },
     "execution_count": 2,
     "metadata": {},
     "output_type": "execute_result"
    }
   ],
   "source": [
    "a = (5+6) - (5 ** 2 * 2 / 2)\n",
    "a"
   ]
  },
  {
   "cell_type": "code",
   "execution_count": 4,
   "metadata": {},
   "outputs": [
    {
     "name": "stdout",
     "output_type": "stream",
     "text": [
      "Int:  <class 'int'> , Float:  <class 'float'> , Complex:  <class 'complex'>\n",
      "Real:  2.0 , Img:  6.0\n"
     ]
    }
   ],
   "source": [
    "# int\n",
    "i = 10\n",
    "\n",
    "# float\n",
    "f = 1.24\n",
    "\n",
    "# complex\n",
    "c = 2 + 6j  # a + bi \n",
    "\n",
    "print(\"Int: \", type(i), \", Float: \", type(f), \", Complex: \", type(c))\n",
    "print(\"Real: \", c.real, \", Img: \", c.imag)"
   ]
  },
  {
   "cell_type": "code",
   "execution_count": 10,
   "metadata": {},
   "outputs": [
    {
     "name": "stdout",
     "output_type": "stream",
     "text": [
      "Value of b:  5 , Type:  <class 'int'>\n",
      "Value of b:  4.0 , Type:  <class 'float'>\n"
     ]
    }
   ],
   "source": [
    "# float to int\n",
    "b = 5.35    # b is float\n",
    "b = int(b)  # b is int now\n",
    "print(\"Value of b: \", b, \", Type: \", type(b))\n",
    "\n",
    "a = 4         # a is int\n",
    "a = float(a)  # a is float now\n",
    "print(\"Value of b: \", a, \", Type: \", type(a))"
   ]
  },
  {
   "cell_type": "code",
   "execution_count": 31,
   "metadata": {},
   "outputs": [
    {
     "name": "stdout",
     "output_type": "stream",
     "text": [
      "String is:  My String , Type:  <class 'str'>\n",
      "Modified String:  String Changed\n",
      "String Changed\n"
     ]
    },
    {
     "name": "stdout",
     "output_type": "stream",
     "text": [
      "\n",
      "Student Details:\n",
      "Name:  Lucky \n",
      "Roll number:  2310080034 \n",
      "Batch:  AI-DS \n",
      "Percentage:  31.25 %\n"
     ]
    }
   ],
   "source": [
    "str = \"My String\"\n",
    "print(\"String is: \", str, \", Type: \", type(str))\n",
    "\n",
    "# Can modify the whole string\n",
    "str = \"String Changed\"\n",
    "print(\"Modified String: \", str)\n",
    "\n",
    "# Cannot assign specific charachter to a string \n",
    "# str[2] = 'a'  \n",
    "print(str)\n",
    "\n",
    "# String Input\n",
    "name = input(\"Enter Name: \")\n",
    "roll_number = input(\"Enter Roll Number: \")\n",
    "batch = input(\"Enter Batch: \")\n",
    "marks_obtained = int(input(\"Enter Marks Obtained \"))\n",
    "max_marks = int(input(\"Enter Maximum marks: \"))\n",
    "percentage = ((marks_obtained)/max_marks)*100\n",
    "\n",
    "print(\"\\nStudent Details:\\nName: \", name, \"\\nRoll number: \", roll_number, \"\\nBatch: \", batch, \"\\nPercentage: \", percentage, \"%\")"
   ]
  },
  {
   "cell_type": "code",
   "execution_count": 35,
   "metadata": {},
   "outputs": [
    {
     "name": "stdout",
     "output_type": "stream",
     "text": [
      "Length of String:  5\n",
      "Last Char:  y\n",
      "First Char:  L\n"
     ]
    }
   ],
   "source": [
    "string = \"Lucky\"\n",
    "\n",
    "# String length\n",
    "print(\"Length of String: \", len(string))\n",
    "\n",
    "# Last Charachter of String\n",
    "print(\"Last Char: \", string[-1])\n",
    "\n",
    "# First Charachter of String\n",
    "print(\"First Char: \", string[0])"
   ]
  },
  {
   "cell_type": "code",
   "execution_count": 42,
   "metadata": {},
   "outputs": [
    {
     "name": "stdout",
     "output_type": "stream",
     "text": [
      "Wrong Roll Number, Try Again\n"
     ]
    }
   ],
   "source": [
    "name = input(\"Enter Name: \")\n",
    "roll_number = input(\"Enter Roll Number: \")\n",
    "# marks = \n",
    "\n",
    "if (len(roll_number) == 10):\n",
    "    print(\"Your Roll Number: \", roll_number)\n",
    "else :\n",
    "    print(\"Wrong Roll Number, Try Again\")"
   ]
  },
  {
   "cell_type": "code",
   "execution_count": 6,
   "metadata": {},
   "outputs": [
    {
     "name": "stdout",
     "output_type": "stream",
     "text": [
      "0 1 2 3 4 \n",
      "\n",
      "1 2 3 4 5 \n",
      "\n",
      "Hi  Lucky!  How  are  you ? "
     ]
    }
   ],
   "source": [
    "# for Loop\n",
    "# Indexing starts from 0 to 4 ==> [0, 5)\n",
    "for i in range (5):\n",
    "    print(i, end = \" \")\n",
    "\n",
    "print(\"\\n\")\n",
    "''' \n",
    "Python's for statement can also iterates over the items of any sequence (a list or a string), in the order that they appear in the sequence\n",
    "No need of using range\n",
    "'''\n",
    "list = [1, 2, 3, 4, 5]\n",
    "words = [\"Hi \", \"Lucky! \", \"How \", \"are \", \"you ?\"]\n",
    "\n",
    "# think as i is a pointer pointing to elements of the list, & print i\n",
    "for i in list:\n",
    "    print(i, end = \" \") \n",
    "\n",
    "print(\"\\n\")\n",
    "# think as w is a pointer pointing to words of the list, & print w\n",
    "for w in words:\n",
    "    print(w, end = \" \")"
   ]
  }
 ],
 "metadata": {
  "kernelspec": {
   "display_name": "Python 3",
   "language": "python",
   "name": "python3"
  },
  "language_info": {
   "codemirror_mode": {
    "name": "ipython",
    "version": 3
   },
   "file_extension": ".py",
   "mimetype": "text/x-python",
   "name": "python",
   "nbconvert_exporter": "python",
   "pygments_lexer": "ipython3",
   "version": "3.12.2"
  }
 },
 "nbformat": 4,
 "nbformat_minor": 2
}
