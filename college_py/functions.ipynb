{
 "cells": [
  {
   "cell_type": "code",
   "execution_count": null,
   "metadata": {},
   "outputs": [],
   "source": [
    "def add(a = 1, b = 1):\n",
    "    return a + b\n",
    "\n",
    "print(add())\n",
    "print(add(7))\n",
    "print(add(7,))"
   ]
  },
  {
   "cell_type": "code",
   "execution_count": null,
   "metadata": {},
   "outputs": [],
   "source": [
    "import math\n",
    "\n",
    "def fact(n):\n",
    "    if n == 1 or n == 0:\n",
    "        return 1\n",
    "    return n * fact(n-1)\n",
    "\n",
    "def combination(a, b):\n",
    "    return fact(a)/(fact(b)*fact(b-a))\n",
    "\n",
    "def permutation(a, b):\n",
    "    return fact(a)/fact(b-a) \n",
    "\n",
    "def calculator(a, b, operation, degree):\n",
    "    radians = math.radians(degree)\n",
    "    match operation:\n",
    "        case '+':\n",
    "            print(a, \"+\", b, \"is:\", a + b)\n",
    "        case '-':\n",
    "            print(a, \"-\", b, \"is:\", a - b)\n",
    "        case '*':\n",
    "            print(a, \"*\", b, \"is:\", a * b)\n",
    "        case '/':\n",
    "            if b == 0:\n",
    "                print(\"Division by 0 not possible\")\n",
    "            else:\n",
    "                print(a, \"/\", b, \"is:\", a // b)\n",
    "        case \"nCr\":\n",
    "            print(a, \"C\", b, \"is \", permutation(a, b))\n",
    "        case \"nPr\":\n",
    "            print(a, \"C\", b, \"is \", combination(a, b))\n",
    "        case '!':\n",
    "            print(\"Factorial of \", a, \" is \", fact(a))\n",
    "        case \"log\":\n",
    "            print(\"Log\", a, \" is \", math.log(a))\n",
    "        case \"sin\":\n",
    "            print(\"Sin(\",degree ,\") is \", math.sin(radians))\n",
    "        case \"cos\":\n",
    "            print(\"Cos(\",degree ,\") is \", math.cos(radians))\n",
    "        case \"tan\":\n",
    "            print(\"Tan(\",degree ,\") is \", math.tan(radians))\n",
    "\n",
    "\n",
    "run = 1\n",
    "\n",
    "double_input = ['+', '-', '*', '/', \"nCr\", \"nPr\", ]\n",
    "single_input = ['!', \"log\"]\n",
    "trignometric_input = [\"sin\", \"cos\", \"tan\"]\n",
    "\n",
    "print(\"** CALCULATOR **\")\n",
    "print(\"This Calculator can perform the following operations: \")\n",
    "print(\"Basic Operations: Add, Subtract, Multiply, Divide\")\n",
    "print(\"Complex Operations: Factorial, Log, Sin, Cos, Tan\")\n",
    "while True:\n",
    "    run = int(input(\"\\nPress 1 to use Calculator, 0 to Exit: \"))\n",
    "    if run:\n",
    "        print(\"\\nOperations: +, -, *, /, !, log, sin, cos, tan, nPr, nCr\")\n",
    "        operation = input(\"Enter Any Operation: \")\n",
    "        if operation in double_input:\n",
    "            a = int(input(\"Enter 1st Number: \"))\n",
    "            b = int(input(\"Enter 2nd Number: \"))\n",
    "            calculator(a, b, operation, 1)\n",
    "        elif operation in single_input:\n",
    "            c = int(input(\"Enter Number: \"))\n",
    "            calculator(c, 1, operation, 1)\n",
    "        else:   # trignometric calculation\n",
    "            trigo = int(input(\"Degree: \"))\n",
    "            calculator(1, 1, operation, trigo)\n",
    "    else:\n",
    "        break    "
   ]
  },
  {
   "cell_type": "code",
   "execution_count": 1,
   "metadata": {},
   "outputs": [
    {
     "name": "stdout",
     "output_type": "stream",
     "text": [
      "['ArithmeticError', 'AssertionError', 'AttributeError', 'BaseException', 'BaseExceptionGroup', 'BlockingIOError', 'BrokenPipeError', 'BufferError', 'BytesWarning', 'ChildProcessError', 'ConnectionAbortedError', 'ConnectionError', 'ConnectionRefusedError', 'ConnectionResetError', 'DeprecationWarning', 'EOFError', 'Ellipsis', 'EncodingWarning', 'EnvironmentError', 'Exception', 'ExceptionGroup', 'False', 'FileExistsError', 'FileNotFoundError', 'FloatingPointError', 'FutureWarning', 'GeneratorExit', 'IOError', 'ImportError', 'ImportWarning', 'IndentationError', 'IndexError', 'InterruptedError', 'IsADirectoryError', 'KeyError', 'KeyboardInterrupt', 'LookupError', 'MemoryError', 'ModuleNotFoundError', 'NameError', 'None', 'NotADirectoryError', 'NotImplemented', 'NotImplementedError', 'OSError', 'OverflowError', 'PendingDeprecationWarning', 'PermissionError', 'ProcessLookupError', 'RecursionError', 'ReferenceError', 'ResourceWarning', 'RuntimeError', 'RuntimeWarning', 'StopAsyncIteration', 'StopIteration', 'SyntaxError', 'SyntaxWarning', 'SystemError', 'SystemExit', 'TabError', 'TimeoutError', 'True', 'TypeError', 'UnboundLocalError', 'UnicodeDecodeError', 'UnicodeEncodeError', 'UnicodeError', 'UnicodeTranslateError', 'UnicodeWarning', 'UserWarning', 'ValueError', 'Warning', 'ZeroDivisionError', '__IPYTHON__', '__build_class__', '__debug__', '__doc__', '__import__', '__loader__', '__name__', '__package__', '__spec__', 'abs', 'aiter', 'all', 'anext', 'any', 'ascii', 'bin', 'bool', 'breakpoint', 'bytearray', 'bytes', 'callable', 'chr', 'classmethod', 'compile', 'complex', 'copyright', 'credits', 'delattr', 'dict', 'dir', 'display', 'divmod', 'enumerate', 'eval', 'exec', 'execfile', 'filter', 'float', 'format', 'frozenset', 'get_ipython', 'getattr', 'globals', 'hasattr', 'hash', 'help', 'hex', 'id', 'input', 'int', 'isinstance', 'issubclass', 'iter', 'len', 'license', 'list', 'locals', 'map', 'max', 'memoryview', 'min', 'next', 'object', 'oct', 'open', 'ord', 'pow', 'print', 'property', 'range', 'repr', 'reversed', 'round', 'runfile', 'set', 'setattr', 'slice', 'sorted', 'staticmethod', 'str', 'sum', 'super', 'tuple', 'type', 'vars', 'zip']\n",
      "Help on built-in function pow in module builtins:\n",
      "\n",
      "pow(base, exp, mod=None)\n",
      "    Equivalent to base**exp with 2 arguments or base**exp % mod with 3 arguments\n",
      "\n",
      "    Some types, such as ints, are able to use a more efficient algorithm when\n",
      "    invoked using the three argument form.\n",
      "\n"
     ]
    }
   ],
   "source": [
    "import builtins\n",
    "\n",
    "print(dir(builtins))\n",
    "\n",
    "help(pow)"
   ]
  },
  {
   "cell_type": "code",
   "execution_count": 2,
   "metadata": {},
   "outputs": [
    {
     "name": "stdout",
     "output_type": "stream",
     "text": [
      "4\n",
      "24\n",
      "Hello ,  Lucky !\n",
      "Hello ,  Sweshik !\n",
      "Hello ,  Zaid !\n"
     ]
    }
   ],
   "source": [
    "# *args are used to pass multiple arguments\n",
    "\n",
    "def find_max(*args):\n",
    "    return max(args)\n",
    "\n",
    "print(find_max(1,2,3,4))\n",
    "\n",
    "def multiply(*numbers):\n",
    "    ans = 1\n",
    "    for i in numbers:\n",
    "        ans *= i\n",
    "    return ans\n",
    "\n",
    "print(multiply(1,2,3,4))\n",
    "\n",
    "def morning_messages(greeting, *args):\n",
    "    for i in args:\n",
    "        print(greeting, \", \", i, \"!\")\n",
    "\n",
    "morning_messages(\"Hello\", \"Lucky\", \"Sweshik\", \"Zaid\")\n",
    "\n",
    "morning_messages(\"Hello\")  # No Error\n",
    "\n",
    "\n"
   ]
  }
 ],
 "metadata": {
  "kernelspec": {
   "display_name": "Python 3",
   "language": "python",
   "name": "python3"
  },
  "language_info": {
   "codemirror_mode": {
    "name": "ipython",
    "version": 3
   },
   "file_extension": ".py",
   "mimetype": "text/x-python",
   "name": "python",
   "nbconvert_exporter": "python",
   "pygments_lexer": "ipython3",
   "version": "3.12.2"
  }
 },
 "nbformat": 4,
 "nbformat_minor": 2
}
