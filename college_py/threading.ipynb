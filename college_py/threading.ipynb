{
 "cells": [
  {
   "cell_type": "code",
   "execution_count": 1,
   "metadata": {},
   "outputs": [
    {
     "name": "stdout",
     "output_type": "stream",
     "text": [
      "Square of 1 is 1\n",
      "Square of 2 is 4\n",
      "Square of 3 is 9\n",
      "Square of 4 is 16\n",
      "Square of 5 is 25\n"
     ]
    }
   ],
   "source": [
    "# Simple Threading\n",
    "\n",
    "import threading\n",
    "\n",
    "def get_sqr(numbers):\n",
    "    for num in numbers:\n",
    "        print(f\"Square of {num} is {num**2}\")\n",
    "\n",
    "numbers = [1, 2, 3, 4, 5]\n",
    "\n",
    "mid = len(numbers) // 2\n",
    "first_half = numbers[:mid]\n",
    "second_half = numbers[mid:]\n",
    "\n",
    "thread1 = threading.Thread(target = get_sqr, args = (first_half,))\n",
    "thread2 = threading.Thread(target = get_sqr, args = (second_half,))\n",
    "\n",
    "thread1.start()\n",
    "thread2.start()\n",
    "\n",
    "thread1.join()\n",
    "thread2.join()\n"
   ]
  },
  {
   "cell_type": "code",
   "execution_count": 11,
   "metadata": {},
   "outputs": [
    {
     "name": "stdout",
     "output_type": "stream",
     "text": [
      "Thread 1Thread 2 1\n",
      " 1\n",
      "Thread 3 1\n",
      "Thread 4 1\n",
      "Thread 1Thread 2 2\n",
      " 2\n",
      "Thread 3 2\n",
      "Thread 4 2\n",
      "Thread 2Thread 1 3\n",
      "Thread 4 3\n",
      "Thread 3 3\n",
      " 3\n",
      "Thread 1 4\n",
      "Thread 4 4\n",
      "Thread 3 4\n",
      "Thread 2 4\n",
      "Thread 1Thread 4 5\n",
      " 5\n",
      "Thread 2 5\n",
      "Thread 3 5\n",
      "Done!\n"
     ]
    }
   ],
   "source": [
    "# Multi-threading: Running multiple threads simultaneously\n",
    "# This concept is used in network programming, web scraping, disk I/O operations, etc.\n",
    "\n",
    "import threading\n",
    "import time\n",
    "\n",
    "def print_numbers():\n",
    "    for i in range(1, 6):\n",
    "        print(threading.current_thread().name, i)\n",
    "        time.sleep(2)\n",
    "\n",
    "thread1 = threading.Thread(target = print_numbers, name = \"Thread 1\")\n",
    "thread2 = threading.Thread(target = print_numbers, name = \"Thread 2\")\n",
    "thread3 = threading.Thread(target = print_numbers, name = \"Thread 3\")\n",
    "thread4 = threading.Thread(target = print_numbers, name = \"Thread 4\")\n",
    "\n",
    "thread1.start()\n",
    "thread2.start()\n",
    "thread3.start()\n",
    "thread4.start()\n",
    "\n",
    "thread1.join()\n",
    "thread2.join()\n",
    "thread3.join()\n",
    "thread4.join()\n",
    "\n",
    "print(\"Done!\")"
   ]
  },
  {
   "cell_type": "code",
   "execution_count": 14,
   "metadata": {},
   "outputs": [
    {
     "name": "stdout",
     "output_type": "stream",
     "text": [
      "Done!\n"
     ]
    },
    {
     "name": "stderr",
     "output_type": "stream",
     "text": [
      "Traceback (most recent call last):\n",
      "  File \"<string>\", line 1, in <module>\n",
      "  File \"/Library/Frameworks/Python.framework/Versions/3.12/lib/python3.12/multiprocessing/spawn.py\", line 122, in spawn_main\n",
      "Traceback (most recent call last):\n",
      "  File \"<string>\", line 1, in <module>\n",
      "  File \"/Library/Frameworks/Python.framework/Versions/3.12/lib/python3.12/multiprocessing/spawn.py\", line 122, in spawn_main\n",
      "    exitcode = _main(fd, parent_sentinel)\n",
      "    exitcode = _main(fd, parent_sentinel)\n",
      "               ^^^^^^^^^^               ^^^^^^^^^^^^^^^^^^^\n",
      "  File \"/Library/Frameworks/Python.framework/Versions/3.12/lib/python3.12/multiprocessing/spawn.py\", line 132, in _main\n",
      "^^^^^^^^^^^^^^^^^^^^^^^\n",
      "  File \"/Library/Frameworks/Python.framework/Versions/3.12/lib/python3.12/multiprocessing/spawn.py\", line 132, in _main\n",
      "    self = reduction.pickle.load(from_parent)\n",
      "           self = reduction.pickle.load(from_parent)\n",
      "      ^^^^^^^^^^^^^^^^^^ ^^^^^^^^^^^^^^^^\n",
      "AttributeError: Can't get attribute 'print_numbers' on <module '__main__' (<class '_frozen_importlib.BuiltinImporter'>)>\n",
      "        ^^^^^^^^^^^^^^^^^^^^^^^^^^^^^^^^^^\n",
      "AttributeError: Can't get attribute 'print_numbers' on <module '__main__' (<class '_frozen_importlib.BuiltinImporter'>)>\n"
     ]
    }
   ],
   "source": [
    "# Multi Processing: Running multiple processes simultaneously\n",
    "# This concept is used in CPU-bound tasks, data processing, etc.\n",
    "\n",
    "import multiprocessing\n",
    "import time\n",
    "\n",
    "def print_numbers():\n",
    "    for i in range(1, 6):\n",
    "        print(multiprocessing.current_process().name, i)\n",
    "        time.sleep(2)\n",
    "\n",
    "process1 = multiprocessing.Process(target = print_numbers, name = \"Process 1\")\n",
    "process2 = multiprocessing.Process(target = print_numbers, name = \"Process 2\")\n",
    "\n",
    "process1.start()\n",
    "process2.start()\n",
    "\n",
    "process1.join()\n",
    "process2.join()\n",
    "\n",
    "print(\"Done!\")"
   ]
  },
  {
   "cell_type": "code",
   "execution_count": 2,
   "metadata": {},
   "outputs": [
    {
     "name": "stdout",
     "output_type": "stream",
     "text": [
      "Done!\n"
     ]
    },
    {
     "name": "stderr",
     "output_type": "stream",
     "text": [
      "Traceback (most recent call last):\n",
      "Traceback (most recent call last):\n",
      "  File \"<string>\", line 1, in <module>\n",
      "  File \"<string>\", line 1, in <module>\n",
      "  File \"/Library/Frameworks/Python.framework/Versions/3.12/lib/python3.12/multiprocessing/spawn.py\", line 122, in spawn_main\n",
      "  File \"/Library/Frameworks/Python.framework/Versions/3.12/lib/python3.12/multiprocessing/spawn.py\", line 122, in spawn_main\n",
      "    exitcode = _main(fd, parent_sentinel)\n",
      "    exitcode = _main(fd, parent_sentinel)\n",
      "               ^^^^^^ ^ ^ ^ ^    ^ ^ ^^ ^ ^ ^^^^^ ^^ ^^^^\n",
      "^^^  File \"/Library/Frameworks/Python.framework/Versions/3.12/lib/python3.12/multiprocessing/spawn.py\", line 132, in _main\n",
      "^^^^^^^^^^^^^^^^^^^^^^\n",
      "  File \"/Library/Frameworks/Python.framework/Versions/3.12/lib/python3.12/multiprocessing/spawn.py\", line 132, in _main\n",
      "    self = reduction.pickle.load(from_parent)\n",
      "           ^^^^^^^^^^^^^^^^^^^^^^^^^^^^^^^^^^\n",
      "AttributeError: Can't get attribute 'print_numbers' on <module '__main__' (<class '_frozen_importlib.BuiltinImporter'>)>\n",
      "    self = reduction.pickle.load(from_parent)\n",
      "           ^^^^^^^^^^^^^^^^^^^^^^^^^^^^^^^^^^\n",
      "AttributeError: Can't get attribute 'print_numbers' on <module '__main__' (<class '_frozen_importlib.BuiltinImporter'>)>\n"
     ]
    }
   ],
   "source": [
    "import multiprocessing\n",
    "import time\n",
    "\n",
    "def print_numbers(start, end):\n",
    "    for i in range(start, end):\n",
    "        print(i)\n",
    "        time.sleep(1)\n",
    "\n",
    "# Define the range of numbers to print\n",
    "start = 1\n",
    "end = 11\n",
    "\n",
    "# Create two processes to print numbers concurrently\n",
    "process1 = multiprocessing.Process(target=print_numbers, args=(start, end//2))\n",
    "process2 = multiprocessing.Process(target=print_numbers, args=(end//2, end))\n",
    "\n",
    "# Start the processes\n",
    "process1.start()\n",
    "process2.start()\n",
    "\n",
    "# Wait for both processes to finish\n",
    "process1.join()\n",
    "process2.join()\n",
    "\n",
    "print(\"Done!\")\n"
   ]
  }
 ],
 "metadata": {
  "kernelspec": {
   "display_name": "Python 3",
   "language": "python",
   "name": "python3"
  },
  "language_info": {
   "codemirror_mode": {
    "name": "ipython",
    "version": 3
   },
   "file_extension": ".py",
   "mimetype": "text/x-python",
   "name": "python",
   "nbconvert_exporter": "python",
   "pygments_lexer": "ipython3",
   "version": "3.12.2"
  }
 },
 "nbformat": 4,
 "nbformat_minor": 2
}
