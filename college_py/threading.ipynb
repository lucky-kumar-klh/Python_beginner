{
 "cells": [
  {
   "cell_type": "code",
   "execution_count": 1,
   "metadata": {},
   "outputs": [
    {
     "name": "stdout",
     "output_type": "stream",
     "text": [
      "Square of 1 is 1\n",
      "Square of 2 is 4\n",
      "Square of 3 is 9\n",
      "Square of 4 is 16\n",
      "Square of 5 is 25\n"
     ]
    }
   ],
   "source": [
    "# Simple Threading\n",
    "\n",
    "import threading\n",
    "\n",
    "def get_sqr(numbers):\n",
    "    for num in numbers:\n",
    "        print(f\"Square of {num} is {num**2}\")\n",
    "\n",
    "numbers = [1, 2, 3, 4, 5]\n",
    "\n",
    "mid = len(numbers) // 2\n",
    "first_half = numbers[:mid]\n",
    "second_half = numbers[mid:]\n",
    "\n",
    "thread1 = threading.Thread(target = get_sqr, args = (first_half,))\n",
    "thread2 = threading.Thread(target = get_sqr, args = (second_half,))\n",
    "\n",
    "thread1.start()\n",
    "thread2.start()\n",
    "\n",
    "thread1.join()\n",
    "thread2.join()\n"
   ]
  },
  {
   "cell_type": "code",
   "execution_count": 2,
   "metadata": {},
   "outputs": [
    {
     "name": "stdout",
     "output_type": "stream",
     "text": [
      "Thread 1Thread 2 1\n",
      " 1\n",
      "Thread 1Thread 2 2\n",
      " 2\n",
      "Thread 1Thread 2 3\n",
      " 3\n",
      "Thread 2Thread 1 4\n",
      " 4\n",
      "Thread 1 5\n",
      "Thread 2 5\n",
      "Done!\n"
     ]
    }
   ],
   "source": [
    "# Multi-threading: Running multiple threads simultaneously\n",
    "# This concept is used in network programming, web scraping, disk I/O operations, etc.\n",
    "\n",
    "import threading\n",
    "import time\n",
    "\n",
    "def print_numbers():\n",
    "    for i in range(1, 6):\n",
    "        print(threading.current_thread().name, i)\n",
    "        time.sleep(2)\n",
    "\n",
    "thread1 = threading.Thread(target = print_numbers, name = \"Thread 1\")\n",
    "thread2 = threading.Thread(target = print_numbers, name = \"Thread 2\")\n",
    "\n",
    "thread1.start()\n",
    "thread2.start()\n",
    "\n",
    "thread1.join()\n",
    "thread2.join()\n",
    "\n",
    "print(\"Done!\")"
   ]
  },
  {
   "cell_type": "code",
   "execution_count": 3,
   "metadata": {},
   "outputs": [
    {
     "name": "stdout",
     "output_type": "stream",
     "text": [
      "Done!\n"
     ]
    },
    {
     "name": "stderr",
     "output_type": "stream",
     "text": [
      "Traceback (most recent call last):\n",
      "  File \"<string>\", line 1, in <module>\n",
      "  File \"/Library/Frameworks/Python.framework/Versions/3.12/lib/python3.12/multiprocessing/spawn.py\", line 122, in spawn_main\n",
      "    exitcode = _main(fd, parent_sentinel)\n",
      "               ^^^^^^^^^^^^^^^^^^^^^^^^^^\n",
      "  File \"/Library/Frameworks/Python.framework/Versions/3.12/lib/python3.12/multiprocessing/spawn.py\", line 132, in _main\n",
      "    self = reduction.pickle.load(from_parent)\n",
      "           ^^^^^^^^^^^^^^^^^^^^^^^^^^^^^^^^^^\n",
      "AttributeError: Can't get attribute 'print_numbers' on <module '__main__' (<class '_frozen_importlib.BuiltinImporter'>)>\n",
      "Traceback (most recent call last):\n",
      "  File \"<string>\", line 1, in <module>\n",
      "  File \"/Library/Frameworks/Python.framework/Versions/3.12/lib/python3.12/multiprocessing/spawn.py\", line 122, in spawn_main\n",
      "    exitcode = _main(fd, parent_sentinel)\n",
      "               ^^^^^^^^^^^^^^^^^^^^^^^^^^\n",
      "  File \"/Library/Frameworks/Python.framework/Versions/3.12/lib/python3.12/multiprocessing/spawn.py\", line 132, in _main\n",
      "    self = reduction.pickle.load(from_parent)\n",
      "           ^^^^^^^^^^^^^^^^^^^^^^^^^^^^^^^^^^\n",
      "AttributeError: Can't get attribute 'print_numbers' on <module '__main__' (<class '_frozen_importlib.BuiltinImporter'>)>\n"
     ]
    }
   ],
   "source": [
    "# Multi Processing: Running multiple processes simultaneously\n",
    "# This concept is used in CPU-bound tasks, data processing, etc.\n",
    "\n",
    "import multiprocessing\n",
    "import time\n",
    "\n",
    "def print_numbers():\n",
    "    for i in range(1, 6):\n",
    "        print(multiprocessing.current_process().name, i)\n",
    "        time.sleep(2)\n",
    "\n",
    "process1 = multiprocessing.Process(target = print_numbers, name = \"Process 1\")\n",
    "process2 = multiprocessing.Process(target = print_numbers, name = \"Process 2\")\n",
    "\n",
    "process1.start()\n",
    "process2.start()\n",
    "\n",
    "process1.join()\n",
    "process2.join()\n",
    "\n",
    "print(\"Done!\")"
   ]
  },
  {
   "cell_type": "code",
   "execution_count": 2,
   "metadata": {},
   "outputs": [
    {
     "name": "stdout",
     "output_type": "stream",
     "text": [
      "Done!\n"
     ]
    },
    {
     "name": "stderr",
     "output_type": "stream",
     "text": [
      "Traceback (most recent call last):\n",
      "Traceback (most recent call last):\n",
      "  File \"<string>\", line 1, in <module>\n",
      "  File \"<string>\", line 1, in <module>\n",
      "  File \"/Library/Frameworks/Python.framework/Versions/3.12/lib/python3.12/multiprocessing/spawn.py\", line 122, in spawn_main\n",
      "  File \"/Library/Frameworks/Python.framework/Versions/3.12/lib/python3.12/multiprocessing/spawn.py\", line 122, in spawn_main\n",
      "    exitcode = _main(fd, parent_sentinel)\n",
      "    exitcode = _main(fd, parent_sentinel)\n",
      "               ^^^^^^ ^ ^ ^ ^    ^ ^ ^^ ^ ^ ^^^^^ ^^ ^^^^\n",
      "^^^  File \"/Library/Frameworks/Python.framework/Versions/3.12/lib/python3.12/multiprocessing/spawn.py\", line 132, in _main\n",
      "^^^^^^^^^^^^^^^^^^^^^^\n",
      "  File \"/Library/Frameworks/Python.framework/Versions/3.12/lib/python3.12/multiprocessing/spawn.py\", line 132, in _main\n",
      "    self = reduction.pickle.load(from_parent)\n",
      "           ^^^^^^^^^^^^^^^^^^^^^^^^^^^^^^^^^^\n",
      "AttributeError: Can't get attribute 'print_numbers' on <module '__main__' (<class '_frozen_importlib.BuiltinImporter'>)>\n",
      "    self = reduction.pickle.load(from_parent)\n",
      "           ^^^^^^^^^^^^^^^^^^^^^^^^^^^^^^^^^^\n",
      "AttributeError: Can't get attribute 'print_numbers' on <module '__main__' (<class '_frozen_importlib.BuiltinImporter'>)>\n"
     ]
    }
   ],
   "source": [
    "import multiprocessing\n",
    "import time\n",
    "\n",
    "def print_numbers(start, end):\n",
    "    for i in range(start, end):\n",
    "        print(i)\n",
    "        time.sleep(1)\n",
    "\n",
    "# Define the range of numbers to print\n",
    "start = 1\n",
    "end = 11\n",
    "\n",
    "# Create two processes to print numbers concurrently\n",
    "process1 = multiprocessing.Process(target=print_numbers, args=(start, end//2))\n",
    "process2 = multiprocessing.Process(target=print_numbers, args=(end//2, end))\n",
    "\n",
    "# Start the processes\n",
    "process1.start()\n",
    "process2.start()\n",
    "\n",
    "# Wait for both processes to finish\n",
    "process1.join()\n",
    "process2.join()\n",
    "\n",
    "print(\"Done!\")\n"
   ]
  },
  {
   "cell_type": "code",
   "execution_count": 67,
   "metadata": {},
   "outputs": [
    {
     "name": "stdout",
     "output_type": "stream",
     "text": [
      "Current Time: 11:35:30\n",
      "1713161130.436446\n",
      "Current Time: 11:35:31\n",
      "1713161130.436446\n",
      "Current Time: 11:35:32\n",
      "1713161130.436446\n",
      "Current Time: 11:35:33\n",
      "1713161130.436446\n",
      "Current Time: 11:35:34\n",
      "1713161130.436446\n",
      "Thread Interupted\n"
     ]
    }
   ],
   "source": [
    "import threading\n",
    "import time\n",
    "\n",
    "flag = True\n",
    "\n",
    "def print_time():\n",
    "    global flag    # will set variable to be global & this variable will same as declared previous\n",
    "    start_time = time.time()\n",
    "    while time.time() - start_time < 10:\n",
    "        if not flag:\n",
    "            print(f\"Thread Interupted\")\n",
    "            return\n",
    "        print(f\"Current Time: {time.strftime(\"%H:%M:%S\", time.localtime())}\")\n",
    "        time.sleep(1)\n",
    "        \n",
    "    \n",
    "thread1 = threading.Thread(target = print_time)\n",
    "\n",
    "thread1.start()\n",
    "\n",
    "time.sleep(5)\n",
    "\n",
    "flag = False\n",
    "\n",
    "thread1.join()\n",
    "\n"
   ]
  },
  {
   "cell_type": "code",
   "execution_count": 78,
   "metadata": {},
   "outputs": [
    {
     "name": "stdout",
     "output_type": "stream",
     "text": [
      "Parent Name: Late\n",
      "Child Name: Joice\n"
     ]
    },
    {
     "ename": "AttributeError",
     "evalue": "'GrandChild' object has no attribute 'g_name'",
     "output_type": "error",
     "traceback": [
      "\u001b[0;31m---------------------------------------------------------------------------\u001b[0m",
      "\u001b[0;31mAttributeError\u001b[0m                            Traceback (most recent call last)",
      "Cell \u001b[0;32mIn[78], line 27\u001b[0m\n\u001b[1;32m     25\u001b[0m \u001b[38;5;28mprint\u001b[39m(parent\u001b[38;5;241m.\u001b[39mprint_name())\n\u001b[1;32m     26\u001b[0m \u001b[38;5;28mprint\u001b[39m(parent\u001b[38;5;241m.\u001b[39mchildClass\u001b[38;5;241m.\u001b[39mprint_name())\n\u001b[0;32m---> 27\u001b[0m \u001b[38;5;28mprint\u001b[39m(\u001b[43mparent\u001b[49m\u001b[38;5;241;43m.\u001b[39;49m\u001b[43mchildClass\u001b[49m\u001b[38;5;241;43m.\u001b[39;49m\u001b[43mgrandChild\u001b[49m\u001b[38;5;241;43m.\u001b[39;49m\u001b[43mprint_name\u001b[49m\u001b[43m(\u001b[49m\u001b[43m)\u001b[49m)\n",
      "Cell \u001b[0;32mIn[78], line 21\u001b[0m, in \u001b[0;36mParent.Child.GrandChild.print_name\u001b[0;34m(self)\u001b[0m\n\u001b[1;32m     20\u001b[0m \u001b[38;5;28;01mdef\u001b[39;00m \u001b[38;5;21mprint_name\u001b[39m(\u001b[38;5;28mself\u001b[39m):\n\u001b[0;32m---> 21\u001b[0m     \u001b[38;5;28;01mreturn\u001b[39;00m \u001b[38;5;124mf\u001b[39m\u001b[38;5;124m\"\u001b[39m\u001b[38;5;124mGrandChild Name: \u001b[39m\u001b[38;5;132;01m{\u001b[39;00m\u001b[38;5;28;43mself\u001b[39;49m\u001b[38;5;241;43m.\u001b[39;49m\u001b[43mg_name\u001b[49m\u001b[38;5;132;01m}\u001b[39;00m\u001b[38;5;124m\"\u001b[39m\n",
      "\u001b[0;31mAttributeError\u001b[0m: 'GrandChild' object has no attribute 'g_name'"
     ]
    }
   ],
   "source": [
    "class Parent:\n",
    "    def __init__(self, p_name, c_name, g_name):\n",
    "        self.p_name = p_name\n",
    "        self.childClass = self.Child()\n",
    "        self.childClass.c_name = c_name\n",
    "        self.childClass.grandchildClass = self.Child().GrandChild()\n",
    "        self.childClass.grandchildClass.g_name = g_name\n",
    "\n",
    "    def print_name(self):\n",
    "        return f\"Parent Name: {self.p_name}\"\n",
    "    \n",
    "    class Child:\n",
    "        def __init__(self):\n",
    "            self.grandChild = self.GrandChild()\n",
    "\n",
    "        def print_name(self):\n",
    "            return f\"Child Name: {self.c_name}\"\n",
    "        \n",
    "        class GrandChild:\n",
    "            def print_name(self):\n",
    "                return f\"GrandChild Name: {self.g_name}\"\n",
    "            \n",
    "\n",
    "parent = Parent(\"Late\", \"Joice\", \"John\")\n",
    "print(parent.print_name())\n",
    "print(parent.childClass.print_name())\n",
    "print(parent.childClass.grandChild.print_name())"
   ]
  }
 ],
 "metadata": {
  "kernelspec": {
   "display_name": "Python 3",
   "language": "python",
   "name": "python3"
  },
  "language_info": {
   "codemirror_mode": {
    "name": "ipython",
    "version": 3
   },
   "file_extension": ".py",
   "mimetype": "text/x-python",
   "name": "python",
   "nbconvert_exporter": "python",
   "pygments_lexer": "ipython3",
   "version": "3.12.2"
  }
 },
 "nbformat": 4,
 "nbformat_minor": 2
}
