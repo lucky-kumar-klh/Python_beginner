{
 "cells": [
  {
   "cell_type": "code",
   "execution_count": 2,
   "metadata": {},
   "outputs": [
    {
     "name": "stdout",
     "output_type": "stream",
     "text": [
      "Square of 1 is 1\n",
      "Square of 2 is 4\n",
      "Square of 3 is 9\n",
      "Square of 4 is 16\n",
      "Square of 5 is 25\n"
     ]
    }
   ],
   "source": [
    "import threading\n",
    "\n",
    "def get_sqr(numbers):\n",
    "    for num in numbers:\n",
    "        print(f\"Square of {num} is {num**2}\")\n",
    "\n",
    "numbers = [1, 2, 3, 4, 5]\n",
    "\n",
    "mid = len(numbers) // 2\n",
    "first_half = numbers[:mid]\n",
    "second_half = numbers[mid:]\n",
    "\n",
    "thread1 = threading.Thread(target = get_sqr, args = (first_half,))\n",
    "thread2 = threading.Thread(target = get_sqr, args = (second_half,))\n",
    "\n",
    "thread1.start()\n",
    "thread2.start()\n",
    "\n",
    "thread1.join()\n",
    "thread2.join()\n"
   ]
  }
 ],
 "metadata": {
  "kernelspec": {
   "display_name": "Python 3",
   "language": "python",
   "name": "python3"
  },
  "language_info": {
   "codemirror_mode": {
    "name": "ipython",
    "version": 3
   },
   "file_extension": ".py",
   "mimetype": "text/x-python",
   "name": "python",
   "nbconvert_exporter": "python",
   "pygments_lexer": "ipython3",
   "version": "3.12.2"
  }
 },
 "nbformat": 4,
 "nbformat_minor": 2
}
