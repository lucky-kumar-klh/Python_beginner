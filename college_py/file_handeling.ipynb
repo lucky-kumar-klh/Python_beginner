{
 "cells": [
  {
   "cell_type": "code",
   "execution_count": 7,
   "metadata": {},
   "outputs": [
    {
     "name": "stdout",
     "output_type": "stream",
     "text": [
      "division by zeroDone !\n",
      "I am using the Program\n"
     ]
    }
   ],
   "source": [
    "# To write something in file.\n",
    "# If file Not found, 'w' will create it\n",
    "# 'w' : Will overwrite content in file everytime you run it\n",
    "# 'a' : append/continue content in file\n",
    "# 'r' : read entire content in file\n",
    "\n",
    "try:\n",
    "    print(1/0)\n",
    "except Exception as error:\n",
    "    with open('error_log.txt', 'w') as file:\n",
    "        file.write(str(error))\n",
    "finally:\n",
    "    with open('error_log.txt', 'a') as file:\n",
    "        file.write(\"\\nDone !\")\n",
    "\n",
    "# To append something in file\n",
    "with open('error_log.txt', 'a') as file:\n",
    "    file.write(\"\\nI am using the Program\")\n",
    "\n",
    "# To read something in file\n",
    "with open('error_log.txt', 'r') as file:\n",
    "    content = file.read()\n",
    "    print(content)\n",
    "    "
   ]
  },
  {
   "cell_type": "code",
   "execution_count": 17,
   "metadata": {},
   "outputs": [
    {
     "name": "stdout",
     "output_type": "stream",
     "text": [
      "False\n"
     ]
    }
   ],
   "source": [
    "print(any(x % 2 == 0 for x in [1,3,5,7,9]))"
   ]
  },
  {
   "cell_type": "code",
   "execution_count": 55,
   "metadata": {},
   "outputs": [],
   "source": [
    "from datetime import date\n",
    "from datetime import datetime\n",
    "\n",
    "current_date = date.today()\n",
    "raw_time = datetime.now()\n",
    "time = raw_time.strftime(\"%H:%M:%S\")\n",
    "\n",
    "try:\n",
    "    1/0\n",
    "except Exception as error:\n",
    "    with open(f'{current_date}_Error_Log.txt', 'a') as file:\n",
    "        file.write(f\"Date: {current_date}, Time: {time}\")\n",
    "        file.write(\"\\n\")\n",
    "        file.write(str(error))\n",
    "        file.write(\"\\n\\n\")"
   ]
  },
  {
   "cell_type": "code",
   "execution_count": 2,
   "metadata": {},
   "outputs": [
    {
     "name": "stdout",
     "output_type": "stream",
     "text": [
      "Date: 2024-03-02, Time: 12:21:18\n",
      "division by zero\n",
      "\n",
      "Date: 2024-03-02, Time: 23:30:09\n",
      "division by zero\n",
      "\n",
      "Date: 2024-03-02, Time: 23:30:14\n",
      "division by zero\n",
      "\n",
      "\n"
     ]
    }
   ],
   "source": [
    "try:\n",
    "    with open('2024-03-02_Error_Log.txt', 'r') as file:\n",
    "        content = file.read()\n",
    "        print(content)\n",
    "except:\n",
    "    print(\"File Not found !!\")"
   ]
  }
 ],
 "metadata": {
  "kernelspec": {
   "display_name": "Python 3",
   "language": "python",
   "name": "python3"
  },
  "language_info": {
   "codemirror_mode": {
    "name": "ipython",
    "version": 3
   },
   "file_extension": ".py",
   "mimetype": "text/x-python",
   "name": "python",
   "nbconvert_exporter": "python",
   "pygments_lexer": "ipython3",
   "version": "3.12.2"
  }
 },
 "nbformat": 4,
 "nbformat_minor": 2
}
