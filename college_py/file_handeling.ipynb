{
 "cells": [
  {
   "cell_type": "code",
   "execution_count": 7,
   "metadata": {},
   "outputs": [
    {
     "name": "stdout",
     "output_type": "stream",
     "text": [
      "division by zeroDone !\n",
      "I am using the Program\n"
     ]
    }
   ],
   "source": [
    "# To write something in file.\n",
    "# If file Not found, 'w' will create it\n",
    "# 'w' : Will overwrite content in file everytime you run it\n",
    "# 'a' : append/continue content in file\n",
    "# 'r' : read entire content in file\n",
    "\n",
    "try:\n",
    "    print(1/0)\n",
    "except Exception as error:\n",
    "    with open('error_log.txt', 'w') as file:\n",
    "        file.write(str(error))\n",
    "finally:\n",
    "    with open('error_log.txt', 'a') as file:\n",
    "        file.write(\"\\nDone !\")\n",
    "\n",
    "# To append something in file\n",
    "with open('error_log.txt', 'a') as file:\n",
    "    file.write(\"\\nI am using the Program\")\n",
    "\n",
    "# To read something in file\n",
    "with open('error_log.txt', 'r') as file:\n",
    "    content = file.read()\n",
    "    print(content)\n",
    "    "
   ]
  },
  {
   "cell_type": "code",
   "execution_count": 17,
   "metadata": {},
   "outputs": [
    {
     "name": "stdout",
     "output_type": "stream",
     "text": [
      "False\n"
     ]
    }
   ],
   "source": [
    "print(any(x % 2 == 0 for x in [1,3,5,7,9]))"
   ]
  },
  {
   "cell_type": "code",
   "execution_count": 55,
   "metadata": {},
   "outputs": [],
   "source": [
    "from datetime import date\n",
    "from datetime import datetime\n",
    "\n",
    "current_date = date.today()\n",
    "raw_time = datetime.now()\n",
    "time = raw_time.strftime(\"%H:%M:%S\")\n",
    "\n",
    "try:\n",
    "    1/0\n",
    "except Exception as error:\n",
    "    with open(f'{current_date}_Error_Log.txt', 'a') as file:\n",
    "        file.write(f\"Date: {current_date}, Time: {time}\")\n",
    "        file.write(\"\\n\")\n",
    "        file.write(str(error))\n",
    "        file.write(\"\\n\\n\")"
   ]
  },
  {
   "cell_type": "code",
   "execution_count": 2,
   "metadata": {},
   "outputs": [
    {
     "name": "stdout",
     "output_type": "stream",
     "text": [
      "Date: 2024-03-02, Time: 12:21:18\n",
      "division by zero\n",
      "\n",
      "Date: 2024-03-02, Time: 23:30:09\n",
      "division by zero\n",
      "\n",
      "Date: 2024-03-02, Time: 23:30:14\n",
      "division by zero\n",
      "\n",
      "\n"
     ]
    }
   ],
   "source": [
    "try:\n",
    "    with open('2024-03-02_Error_Log.txt', 'r') as file:\n",
    "        content = file.read()\n",
    "        print(content)\n",
    "except:\n",
    "    print(\"File Not found !!\")"
   ]
  },
  {
   "cell_type": "code",
   "execution_count": null,
   "metadata": {},
   "outputs": [],
   "source": [
    "import os\n",
    "\n",
    "# file_path = input(\"Enter file Name: \")\n",
    "if os.path.exists('is_was.txt'):\n",
    "    with open('is_was.txt', 'r') as file:\n",
    "        content = file.read()\n",
    "        sentence = list(map(str, content.split()))\n",
    "        count_is = 0\n",
    "        for word in sentence:\n",
    "            if word == \"is\": count_is += 1\n",
    "            if count_is == 3: \n",
    "                os.remove('is_was.txt')\n",
    "                print(\"File Removed\") if not os.path.exists('is_was.txt') else print(\"File Not Removed\")\n",
    "        \n",
    "        if count_is < 3:\n",
    "            copy_content = sentence.copy()\n",
    "            print(\"Do you want to Append OR Write in file ?\\n1. Append\\n2. Write\\nPress 1 or 2: \")\n",
    "            try:\n",
    "                choice = int(input())\n",
    "                if choice == 1:\n",
    "                    file_name = input(\"Enter File Name where you to copy: \")\n",
    "                    with open(file_name, 'a') as file:\n",
    "                        file.write(content)\n",
    "                elif choice == 2:\n",
    "                    file_name = input(\"Enter File Name: \")\n",
    "                    with open(file_name, 'w') as file:\n",
    "                        file.write(content)\n",
    "                else:\n",
    "                    print(\"Enter Either 1 or 2\")\n",
    "            except:\n",
    "                print(\"Enter an Integer only (like 1 or 2)\")\n",
    "        \n",
    "else:\n",
    "    print(\"File Not Found\")"
   ]
  },
  {
   "cell_type": "code",
   "execution_count": 3,
   "metadata": {},
   "outputs": [
    {
     "name": "stdout",
     "output_type": "stream",
     "text": [
      "File Not Found\n",
      "2024-03-02_Error_Log.txt\n",
      "Crop_recommendation.csv\n",
      "tempCodeRunnerFile.py\n",
      "decorators.ipynb\n",
      ".DS_Store\n",
      "sets.ipynb\n",
      "palindrome_list.py\n",
      "Python_Basics.ipynb\n",
      "Panda\n",
      "file_handeling.ipynb\n",
      "list_tuples_methods.ipynb\n",
      "OOP.ipynb\n",
      "Lists.ipynb\n",
      "dictionary.ipynb\n",
      "Crop_Test.ipynb\n",
      "__pycache__\n",
      "abstract_class_method.py\n",
      "try.txt\n",
      "functions.ipynb\n",
      "threading.ipynb\n",
      "titanic.csv\n",
      "loop.ipynb\n",
      "file_name.txt\n",
      "AverageOf_3Numbers.py\n",
      "simple.py\n",
      "prepare_user_list.py\n",
      "yobro.txt\n",
      "ERP.ipynb\n",
      "is_was.txt\n",
      "Area_of_Circle.py\n",
      "extras.ipynb\n"
     ]
    }
   ],
   "source": [
    "import os\n",
    "\n",
    "def file_rename(existing_file, new_file = 'try.txt'):\n",
    "    if os.path.exists(existing_file):\n",
    "        file_rename = input(\"Rename File: \")\n",
    "        os.rename(existing_file, new_file)\n",
    "        print(\"File Renamed Successfully\")\n",
    "    else:\n",
    "        print(\"File Not Found\")\n",
    "\n",
    "file_rename('xyz.txt')\n",
    "\n",
    "# NOTE: .listdir() returns a list, hence we can iterate\n",
    "dir = os.listdir('/Users/lucky/Python_beginner/college_py')\n",
    "for file in dir:\n",
    "    print(file)\n"
   ]
  },
  {
   "cell_type": "code",
   "execution_count": 13,
   "metadata": {},
   "outputs": [
    {
     "name": "stdout",
     "output_type": "stream",
     "text": [
      "The file xyz.txt has size: 8 bytes\n",
      "Last Modified: 2024-04-01 12:30:01.328134\n"
     ]
    }
   ],
   "source": [
    "from datetime import datetime\n",
    "\n",
    "file_path = '/Users/lucky/Python_beginner/college_py/xyz.txt'\n",
    "\n",
    "file_info = os.stat(file_path)\n",
    "print(f\"The file xyz.txt has size: {file_info.st_size} bytes\")\n",
    "\n",
    "last_modified = datetime.fromtimestamp(file_info.st_mtime)\n",
    "print(f\"Last Modified: {last_modified}\")"
   ]
  },
  {
   "cell_type": "code",
   "execution_count": 17,
   "metadata": {},
   "outputs": [
    {
     "name": "stdout",
     "output_type": "stream",
     "text": [
      "Folder Created Succussfully\n"
     ]
    }
   ],
   "source": [
    "import os\n",
    "\n",
    "folder_name = input(\"ENter Folder Name: \")\n",
    "dir_path = '/Users/lucky/Python_beginner/college_py/{folder_name}'\n",
    "\n",
    "if not os.path.exists('/Users/lucky/Python_beginner/college_py/{folder_name}'):\n",
    "    os.makedirs(dir_path)\n",
    "    print(\"Folder Created Succussfully\")\n",
    "else:\n",
    "    print(\"Folder Already exists\")"
   ]
  },
  {
   "cell_type": "code",
   "execution_count": 19,
   "metadata": {},
   "outputs": [
    {
     "name": "stdout",
     "output_type": "stream",
     "text": [
      "It's a Directory\n"
     ]
    }
   ],
   "source": [
    "path = '/Users/lucky/Python_beginner/college_py/__pycache__'\n",
    "\n",
    "if os.path.isfile(path):\n",
    "    print(\"It's a File\")\n",
    "elif os.path.isdir(path):\n",
    "    print(\"It's a Directory\")\n",
    "else:\n",
    "    print(\"File Dosen't Exist\")"
   ]
  },
  {
   "cell_type": "code",
   "execution_count": 25,
   "metadata": {},
   "outputs": [],
   "source": [
    "import os\n",
    "\n",
    "cwd = os.getcwd()\n",
    "dir = cwd + '/Pandas'\n",
    "\n",
    "new_name = input(\"New File Name: \")\n",
    "os.rename(dir, new_name)\n"
   ]
  },
  {
   "cell_type": "code",
   "execution_count": 33,
   "metadata": {},
   "outputs": [
    {
     "name": "stdout",
     "output_type": "stream",
     "text": [
      "Hi LuckyHow are you ?\n",
      "\n"
     ]
    }
   ],
   "source": [
    "import os\n",
    "                \n",
    "if os.path.exists('file_name.txt'):\n",
    "    with open('file_name.txt', 'w') as file:\n",
    "        file.write(\"Hi Lucky\")\n",
    "        file.write(\"How are you ?\")\n",
    "    with open('file_name.txt', 'r') as file:\n",
    "        line1 = file.readline()\n",
    "        line2 = file.readline()\n",
    "\n",
    "    print(line1)\n",
    "    print(line2)\n",
    "\n",
    "else:\n",
    "    print(\"File Not Exists\")\n"
   ]
  }
 ],
 "metadata": {
  "kernelspec": {
   "display_name": "Python 3",
   "language": "python",
   "name": "python3"
  },
  "language_info": {
   "codemirror_mode": {
    "name": "ipython",
    "version": 3
   },
   "file_extension": ".py",
   "mimetype": "text/x-python",
   "name": "python",
   "nbconvert_exporter": "python",
   "pygments_lexer": "ipython3",
   "version": "3.12.2"
  }
 },
 "nbformat": 4,
 "nbformat_minor": 2
}
