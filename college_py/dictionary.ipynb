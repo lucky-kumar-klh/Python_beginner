{
 "cells": [
  {
   "cell_type": "code",
   "execution_count": 11,
   "metadata": {},
   "outputs": [
    {
     "name": "stdout",
     "output_type": "stream",
     "text": [
      "Name :  Lucky Kumar\n",
      "Roll Number :  2310080034\n",
      "Courses :  ['DDCA', 'DST', 'EP', 'BEEC', 'Sports']\n",
      "Sem_CGPA :  {1: 9.67, 2: 9.8, 3: 8.1}\n",
      "ALM :  {'ALM1': 'Quiz', 'HW': 'Home Assignment'}\n",
      "Friends :  ('Sweshik', 'Zaid', 'Fassih')\n",
      "['DDCA', 'DST', 'EP', 'BEEC', 'Sports']\n",
      "8.1\n",
      "tnemngissA emoH\n",
      "dict_keys(['Name', 'Roll Number', 'Courses', 'Sem_CGPA', 'ALM', 'Friends'])\n",
      "dict_values(['Lucky Kumar', '2310080034', ['DDCA', 'DST', 'EP', 'BEEC', 'Sports'], {1: 9.67, 2: 9.8, 3: 8.1}, {'ALM1': 'Quiz', 'HW': 'Home Assignment'}, ('Sweshik', 'Zaid', 'Fassih')])\n",
      "{}\n"
     ]
    }
   ],
   "source": [
    "# create a dictionary of erp\n",
    "ERP = {}\n",
    "\n",
    "# Assign certain value & key in erp\n",
    "ERP[\"Name\"] = \"Lucky Kumar\"\n",
    "ERP[\"Roll Number\"] = \"2310080034\"\n",
    "ERP[\"Courses\"] = [\"DDCA\", \"DST\", \"EP\", \"BEEC\", \"Sports\"]  # List in dictionary \n",
    "ERP[\"Sem_CGPA\"] = {1 : 9.67, 2 : 9.8, 3 : 8.1}   # Dictionary in a Dictionary\n",
    "ERP[\"ALM\"] = {\"ALM1\":\"Quiz\", \"HW\":\"Home Assignment\"}\n",
    "ERP[\"Friends\"] = (\"Sweshik\", \"Zaid\", \"Fassih\")  # Tuples in Dictionary \n",
    "\n",
    "# print(ERP) # Below code is a better way to print key vs value\n",
    "# for loop to print key vs values\n",
    "for k, v in ERP.items():\n",
    "    print(k,\": \", v)\n",
    "\n",
    "\n",
    "print(ERP[\"Courses\"])\n",
    "print(ERP[\"Sem_CGPA\"][3])\n",
    "print(ERP[\"ALM\"][\"HW\"][::-1])  # Slicing Elements in a dictionary (Reversing)\n",
    "\n",
    "# To print all keys & values of a dictionaries \n",
    "print(ERP.keys())\n",
    "print(ERP.values())\n",
    "\n",
    "# Empty Dictionary\n",
    "ERP.clear()\n",
    "print(ERP)"
   ]
  },
  {
   "cell_type": "code",
   "execution_count": 1,
   "metadata": {},
   "outputs": [
    {
     "name": "stdout",
     "output_type": "stream",
     "text": [
      "10\n"
     ]
    }
   ],
   "source": [
    "# Dictionary inside a List\n",
    "my_list = [ \n",
    "    {1:3, 2:10},   # At 0th index of list, there is dictionary having 2 values & keys\n",
    "    {3:11}\n",
    "    ]\n",
    "\n",
    "print((my_list[0][2]))\n",
    "\n",
    "my_dict = {}\n",
    "num = int(input(\"Enter number: \"))\n",
    "for i in range(num):\n",
    "    # x, y ==> key, value\n",
    "    x = int(input(\"Enter Key: \"))\n",
    "    y = int(input(\"Enter Value: \"))\n",
    "    my_dict[x] = y\n",
    "    # my_dict[int(input(\"Enter Key: \"))] = int(input(\"Enter Value: \"))  # NOT WORKING\n",
    "\n",
    "print(my_dict)"
   ]
  },
  {
   "cell_type": "code",
   "execution_count": null,
   "metadata": {},
   "outputs": [],
   "source": [
    "# Tuples as Key in a Dictionary\n",
    "KL_University = {\n",
    "    (1, 1): \"1st Year, 1st Sem\",\n",
    "    (1, 2): \"1st Year, 2nd Sem\"\n",
    "}\n",
    "\n",
    "print(KL_University)\n",
    "print(KL_University[(1, 1)])\n",
    "\n",
    "country_state_capitals = {\n",
    "    (\"India\", \"Bihar\"): \"Patna\",\n",
    "    (\"Inida\", \"Telangana\"): \"Hyderabad\",\n",
    "    (\"USA\"): \"Washington\"\n",
    "}\n",
    "\n",
    "print(country_state_capitals[(\"India\", \"Bihar\")])\n",
    "print(country_state_capitals[(\"USA\")])\n"
   ]
  },
  {
   "cell_type": "code",
   "execution_count": 2,
   "metadata": {},
   "outputs": [
    {
     "ename": "TypeError",
     "evalue": "unhashable type: 'list'",
     "output_type": "error",
     "traceback": [
      "\u001b[0;31m---------------------------------------------------------------------------\u001b[0m",
      "\u001b[0;31mTypeError\u001b[0m                                 Traceback (most recent call last)",
      "Cell \u001b[0;32mIn[2], line 2\u001b[0m\n\u001b[1;32m      1\u001b[0m \u001b[38;5;66;03m# Lists can't be the key in a dictionary\u001b[39;00m\n\u001b[0;32m----> 2\u001b[0m my_dict \u001b[38;5;241m=\u001b[39m {\n\u001b[1;32m      3\u001b[0m     [\u001b[38;5;124m\"\u001b[39m\u001b[38;5;124mhi\u001b[39m\u001b[38;5;124m\"\u001b[39m]: \u001b[38;5;124m\"\u001b[39m\u001b[38;5;124mfev\u001b[39m\u001b[38;5;124m\"\u001b[39m\n\u001b[1;32m      4\u001b[0m }\n\u001b[1;32m      6\u001b[0m \u001b[38;5;28mprint\u001b[39m(my_dict)\n",
      "\u001b[0;31mTypeError\u001b[0m: unhashable type: 'list'"
     ]
    }
   ],
   "source": [
    "# Lists can't be the key in a dictionary\n",
    "my_dict = {\n",
    "    [\"hi\"]: \"fev\"\n",
    "}\n",
    "\n",
    "print(my_dict)"
   ]
  },
  {
   "cell_type": "code",
   "execution_count": 36,
   "metadata": {},
   "outputs": [
    {
     "name": "stdout",
     "output_type": "stream",
     "text": [
      "CDE\n"
     ]
    }
   ],
   "source": [
    "def listToString(s):\n",
    "    str1 = \"\"\n",
    "    for ele in s:\n",
    "        str1 += ele\n",
    "    return str1\n",
    "\n",
    "rotate_by = int(input(\"Enter the number to rotate by: \"))\n",
    "word = input(\"Enter the word: \")\n",
    "\n",
    "ans = []\n",
    "\n",
    "for alphabet in word:\n",
    "\n",
    "    if alphabet.islower():\n",
    "        if ord(alphabet) + rotate_by > 122:\n",
    "            rotate_by = rotate_by % 26\n",
    "            ans.append(chr(96 + rotate_by))\n",
    "        else:\n",
    "            n = (rotate_by + ord(alphabet))\n",
    "            ans.append(chr(n))\n",
    "\n",
    "    else:  \n",
    "        if ord(alphabet) + rotate_by > 90:\n",
    "            rotate_by = rotate_by % 26\n",
    "            ans.append(chr(64 + rotate_by))\n",
    "        else:\n",
    "            n = (rotate_by + ord(alphabet))\n",
    "            ans.append(chr(n))\n",
    "\n",
    "print(listToString(ans))\n"
   ]
  },
  {
   "cell_type": "code",
   "execution_count": 6,
   "metadata": {},
   "outputs": [
    {
     "name": "stdout",
     "output_type": "stream",
     "text": [
      "10\n",
      "None\n",
      "dict_items([('a', 10), ('b', 20), ('name', 'Lucky')])\n",
      "<class 'dict_items'>\n",
      "eman\n",
      "{'a': 10, 'name': 'Lucky'}\n"
     ]
    }
   ],
   "source": [
    "# .get() method & None value\n",
    "my_dict = {'a': 10, 'b': 20, \"name\": \"Lucky\"}\n",
    "\n",
    "# print(my_dict['a'])\n",
    "print(my_dict.get('a'))\n",
    "# print(my_dict['b'])\n",
    "print(my_dict.get('z'))  # None\n",
    "# print(my_dict['b'])   # Error\n",
    "\n",
    "# List all key & values in a dictionary \n",
    "print(my_dict.items())\n",
    "print(type(my_dict.items()))\n",
    "\n",
    "'''\n",
    "    ** IMPORTANT **\n",
    "# dictionary -> list\n",
    "# Therefore, this converted dictionary can be used as a List (indexing in a dictionary)\n",
    "# print((my_dict.items()[0][0]))   # returns a list of elements of a dictionary\n",
    "# (my_dict.items()[2][0])    # to locate any key/value from a dictinary as a list using indexing \n",
    "'''\n",
    "print(list(my_dict.items())[2][0][::-1])\n",
    "\n",
    "my_dict.pop(list(my_dict.items())[1][0])  # pop the key NOT the value\n",
    "\n",
    "print(my_dict)"
   ]
  },
  {
   "cell_type": "code",
   "execution_count": 7,
   "metadata": {},
   "outputs": [
    {
     "name": "stdout",
     "output_type": "stream",
     "text": [
      "Lucky\n",
      "first_name\n",
      "olleh\n"
     ]
    }
   ],
   "source": [
    "my_name = {\n",
    "    \"first_name\": \"Lucky\",\n",
    "    \"last_name\": \"Kumar\" \n",
    "}\n",
    "\n",
    "my_name[\"middle_name\"] = input(\"Enter middle Name: \")\n",
    "\n",
    "print(list(my_name.items())[0][1])\n",
    "print(list(my_name.items())[0][0])\n",
    "print(list(my_name.items())[2][1][::-1])"
   ]
  },
  {
   "cell_type": "code",
   "execution_count": 9,
   "metadata": {},
   "outputs": [
    {
     "name": "stdout",
     "output_type": "stream",
     "text": [
      "{'a': 10, 'b': 200, 'c': 30, 'd': 40}\n"
     ]
    }
   ],
   "source": [
    "# updating dictionary\n",
    "my_dict = {\n",
    "    'a': 10,\n",
    "    'b': 20,\n",
    "    'c': 30\n",
    "}\n",
    "\n",
    "# updating / adding key & values (if key is same) \n",
    "my_dict.update([\n",
    "    ('b', 200),\n",
    "    ('d', 40)\n",
    "])\n",
    "\n",
    "# ALITER\n",
    "my_dict.update(b = 200, d = 40)\n",
    "\n",
    "print(my_dict)"
   ]
  },
  {
   "cell_type": "code",
   "execution_count": 40,
   "metadata": {},
   "outputs": [
    {
     "name": "stdout",
     "output_type": "stream",
     "text": [
      "125\n"
     ]
    }
   ],
   "source": [
    "def A(m, n):\n",
    "    if m == 0:\n",
    "        return n + 1\n",
    "    if m > 0 and n == 0:\n",
    "        return A(m - 1, 1)\n",
    "    if m > 0 and n > 0:\n",
    "        return A(m - 1, A(m, n - 1))\n",
    "\n",
    "m = 3\n",
    "n = 4\n",
    "\n",
    "print(A(m, n))"
   ]
  }
 ],
 "metadata": {
  "kernelspec": {
   "display_name": "Python 3",
   "language": "python",
   "name": "python3"
  },
  "language_info": {
   "codemirror_mode": {
    "name": "ipython",
    "version": 3
   },
   "file_extension": ".py",
   "mimetype": "text/x-python",
   "name": "python",
   "nbconvert_exporter": "python",
   "pygments_lexer": "ipython3",
   "version": "3.12.2"
  }
 },
 "nbformat": 4,
 "nbformat_minor": 2
}
