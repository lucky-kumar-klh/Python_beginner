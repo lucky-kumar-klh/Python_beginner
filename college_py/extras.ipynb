{
 "cells": [
  {
   "cell_type": "code",
   "execution_count": 11,
   "metadata": {
    "is_executing": true
   },
   "outputs": [
    {
     "name": "stdout",
     "output_type": "stream",
     "text": [
      "['Hi,', 'My', 'name', 'is:', 'Lucky', 'Kumar']\n",
      "<class 'list'>\n",
      "['Hi, My name is', ' Lucky Kumar']\n",
      "['Python', 'is', 'a', 'programming', 'language']\n"
     ]
    }
   ],
   "source": [
    "# Split sentences in words\n",
    "sentence = \"Hi, My name is: Lucky Kumar\"\n",
    "# default () -> splits based on spaces\n",
    "words = sentence.split()  # String to list\n",
    "print(words)\n",
    "print(type(words))\n",
    "\n",
    "# Split based on custom charachters\n",
    "custom_split = sentence.split(':')\n",
    "print(custom_split)\n",
    "\n",
    "sentence = \"Python is a programming language\"\n",
    "# if maxsplit = n --> in output it will divide the strings in n segments OR n ','\n",
    "words = sentence.split(maxsplit = 4)\n",
    "print(words)  "
   ]
  },
  {
   "cell_type": "code",
   "execution_count": 4,
   "metadata": {},
   "outputs": [
    {
     "name": "stdout",
     "output_type": "stream",
     "text": [
      "[0, 1, 2, 3, 5, 6, 26, 89, 357, 568]\n",
      "[568, 357, 89, 26, 6, 5, 3, 2, 1, 0]\n"
     ]
    }
   ],
   "source": [
    "# Sorting Techniques\n",
    "l: list[int] = [1,5,2,6,89,3,26,357,568,0]\n",
    "\n",
    "sorted_ascending = sorted(l)\n",
    "sorted_descending = sorted(l, reverse=True)\n",
    "\n",
    "print(sorted_ascending)\n",
    "print(sorted_descending)"
   ]
  },
  {
   "cell_type": "code",
   "execution_count": 12,
   "metadata": {},
   "outputs": [
    {
     "name": "stdout",
     "output_type": "stream",
     "text": [
      "<class 'str'>\n"
     ]
    },
    {
     "data": {
      "text/plain": [
       "[1, 2, 3, 4]"
      ]
     },
     "execution_count": 12,
     "metadata": {},
     "output_type": "execute_result"
    }
   ],
   "source": [
    "# String to list, int, and spaces\n",
    "# input_str = \"1 2 3 4 5\"\n",
    "input_str = input(\"Enter String: \")\n",
    "print(type(input_str))\n",
    "input_list = list(map(int, input_str.split()))\n",
    "input_list\n",
    "# print(input_list)"
   ]
  },
  {
   "cell_type": "code",
   "execution_count": 19,
   "metadata": {},
   "outputs": [
    {
     "name": "stdout",
     "output_type": "stream",
     "text": [
      "Yes\n",
      "True\n",
      "True\n"
     ]
    }
   ],
   "source": [
    "# 'any' keyword -> operator that does 'or' operation\n",
    "# any() -> by default it takes only one parameter\n",
    "# any([para1, para2, etc]) -> multiple parameters \n",
    "a, b, c = 1, 2, 3\n",
    "if any([a == 1, b == 0, c == 3]):\n",
    "    print(\"Yes\")\n",
    "else:\n",
    "    print(\"NO\")\n",
    "\n",
    "print(any(['Hello' == 'Hello', len('Hello') == 3, 'Hello' in {'GN', 'GM', 'Bye'}]))\n",
    "print(any([]))"
   ]
  }
 ],
 "metadata": {
  "kernelspec": {
   "display_name": "Python 3",
   "language": "python",
   "name": "python3"
  },
  "language_info": {
   "codemirror_mode": {
    "name": "ipython",
    "version": 3
   },
   "file_extension": ".py",
   "mimetype": "text/x-python",
   "name": "python",
   "nbconvert_exporter": "python",
   "pygments_lexer": "ipython3",
   "version": "3.12.2"
  }
 },
 "nbformat": 4,
 "nbformat_minor": 2
}
