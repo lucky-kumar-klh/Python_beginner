{
 "cells": [
  {
   "cell_type": "code",
   "execution_count": null,
   "metadata": {},
   "outputs": [
    {
     "name": "stdout",
     "output_type": "stream",
     "text": [
      "hi\n"
     ]
    }
   ],
   "source": [
    "'''\n",
    "1. Sets are unordered\n",
    "2. Sets have Unique elements only\n",
    "2. Sets are Mutable but elements in a set must be Immutable type\n",
    "'''"
   ]
  },
  {
   "cell_type": "code",
   "execution_count": 2,
   "metadata": {},
   "outputs": [
    {
     "name": "stdout",
     "output_type": "stream",
     "text": [
      "{'hi', 'yeah'}\n",
      "<class 'set'>\n"
     ]
    }
   ],
   "source": [
    "my_set = set([\"hi\", \"yeah\"])\n",
    "# my_set = {\"hello\", \"Hi\", \"GM\", \"GM\"}\n",
    "print(my_set)\n",
    "print(type(my_set))"
   ]
  },
  {
   "cell_type": "code",
   "execution_count": 13,
   "metadata": {},
   "outputs": [
    {
     "name": "stdout",
     "output_type": "stream",
     "text": [
      "{3.141592653589793, 42, 'Hi', (1, 2, 3)}\n",
      "True\n",
      "False\n",
      "True\n"
     ]
    }
   ],
   "source": [
    "# tuples(immutable) in a set\n",
    "import math\n",
    "\n",
    "my_set = {42, 'Hi', (1,2,3), math.pi}\n",
    "print(my_set)\n",
    "\n",
    "print(42 in my_set)\n",
    "print(3 in my_set)\n",
    "print((1, 2, 3) in my_set)"
   ]
  },
  {
   "cell_type": "code",
   "execution_count": 1,
   "metadata": {},
   "outputs": [
    {
     "name": "stdout",
     "output_type": "stream",
     "text": [
      "{1, 2, 3, 'hello', 5, (1+5j), 'GM'}\n",
      "{1, 2, 3, 'hello', 5, (1+5j), 'GM'}\n",
      "{'GM'}\n",
      "{'GM'}\n"
     ]
    }
   ],
   "source": [
    "# Union & Intersection Properties\n",
    "set1 = {\"hello\", 1, 3, \"GM\"}\n",
    "set2 = {\"GM\", 2, 5, (1+5j)}\n",
    "# set3 = {1,2,3,4,{1,2}}  ==> Set inside a set is not possible as set as a whole is mutable But it's elements are immutable \n",
    "print(set1.union(set2))     # Both are Union\n",
    "print(set1 | set2)       \n",
    "\n",
    "print(set1.intersection(set2))  # both are Intersection\n",
    "print(set1 & set2)                   "
   ]
  },
  {
   "cell_type": "code",
   "execution_count": 11,
   "metadata": {},
   "outputs": [
    {
     "ename": "TypeError",
     "evalue": "unhashable type: 'set'",
     "output_type": "error",
     "traceback": [
      "\u001b[0;31m---------------------------------------------------------------------------\u001b[0m",
      "\u001b[0;31mTypeError\u001b[0m                                 Traceback (most recent call last)",
      "Cell \u001b[0;32mIn[11], line 3\u001b[0m\n\u001b[1;32m      1\u001b[0m \u001b[38;5;66;03m# set -> list \u001b[39;00m\n\u001b[1;32m      2\u001b[0m \u001b[38;5;28;01mimport\u001b[39;00m \u001b[38;5;21;01mmath\u001b[39;00m\n\u001b[0;32m----> 3\u001b[0m my_set \u001b[38;5;241m=\u001b[39m {\u001b[38;5;124m'\u001b[39m\u001b[38;5;124mb\u001b[39m\u001b[38;5;124m'\u001b[39m,\u001b[38;5;124m'\u001b[39m\u001b[38;5;124ma\u001b[39m\u001b[38;5;124m'\u001b[39m,\u001b[38;5;124m'\u001b[39m\u001b[38;5;124mh\u001b[39m\u001b[38;5;124m'\u001b[39m,\u001b[38;5;124m'\u001b[39m\u001b[38;5;124me\u001b[39m\u001b[38;5;124m'\u001b[39m,\u001b[38;5;124m'\u001b[39m\u001b[38;5;124ml\u001b[39m\u001b[38;5;124m'\u001b[39m,\u001b[38;5;124m'\u001b[39m\u001b[38;5;124ml\u001b[39m\u001b[38;5;124m'\u001b[39m,\u001b[38;5;124m'\u001b[39m\u001b[38;5;124mo\u001b[39m\u001b[38;5;124m'\u001b[39m, math\u001b[38;5;241m.\u001b[39mpi, {\u001b[38;5;241m1\u001b[39m,\u001b[38;5;241m2\u001b[39m}}\n\u001b[1;32m      5\u001b[0m \u001b[38;5;28mprint\u001b[39m(\u001b[38;5;28mlist\u001b[39m(my_set)[\u001b[38;5;241m3\u001b[39m])  \u001b[38;5;66;03m# Ordered List\u001b[39;00m\n\u001b[1;32m      7\u001b[0m list1 \u001b[38;5;241m=\u001b[39m \u001b[38;5;28mlist\u001b[39m(my_set)\n",
      "\u001b[0;31mTypeError\u001b[0m: unhashable type: 'set'"
     ]
    }
   ],
   "source": [
    "# set -> list \n",
    "import math\n",
    "my_set = {'b','a','h','e','l','l','o', math.pi}\n",
    "\n",
    "print(list(my_set)[3])  # Ordered List\n",
    "\n",
    "list1 = list(my_set)\n",
    "print(list1)\n",
    "\n",
    "print(my_set)"
   ]
  },
  {
   "cell_type": "code",
   "execution_count": 17,
   "metadata": {},
   "outputs": [
    {
     "name": "stdout",
     "output_type": "stream",
     "text": [
      "set()\n",
      "{1, 2, 3, 6, 7, 8, 9, 10}\n",
      "{6, 7, 8, 9, 10}\n"
     ]
    }
   ],
   "source": [
    "# subtract s1 - s2 - s3\n",
    "s1 = {1,2,3,4,5}\n",
    "s2 = {6,7,8,9,10,4,5}\n",
    "s3 = {1,2,3}\n",
    "\n",
    "print(s1.difference(s2, s3))\n",
    "\n",
    "# symmetric_difference  OR s1 ^ s2\n",
    "# This returns set of elements that are either in s1 or s2 NOT in both of them   \n",
    "print(s1.symmetric_difference(s2))\n",
    "print(s1 ^ s2 ^ s3)\n",
    "\n",
    "'''\n",
    "0 ^ 1 = 1\n",
    "1 ^ 0 = 1\n",
    "0 ^ 0 = 0\n",
    "1 ^ 1 = 0\n",
    "'''"
   ]
  },
  {
   "cell_type": "code",
   "execution_count": 22,
   "metadata": {},
   "outputs": [
    {
     "name": "stdout",
     "output_type": "stream",
     "text": [
      "False\n"
     ]
    },
    {
     "data": {
      "text/plain": [
       "[0, 1, 2, 3, 4]"
      ]
     },
     "execution_count": 22,
     "metadata": {},
     "output_type": "execute_result"
    }
   ],
   "source": [
    "# isdisjoint :- return true if no elements are in common else false\n",
    "s1 = {1,2,3,4,5}\n",
    "s2 = {6,7,8,9,10,1}\n",
    "\n",
    "print(s1.isdisjoint(s2))\n",
    "s1.clear()\n",
    "s1"
   ]
  },
  {
   "cell_type": "code",
   "execution_count": 26,
   "metadata": {},
   "outputs": [
    {
     "ename": "TypeError",
     "evalue": "'list' object is not callable",
     "output_type": "error",
     "traceback": [
      "\u001b[0;31m---------------------------------------------------------------------------\u001b[0m",
      "\u001b[0;31mTypeError\u001b[0m                                 Traceback (most recent call last)",
      "Cell \u001b[0;32mIn[26], line 2\u001b[0m\n\u001b[1;32m      1\u001b[0m s \u001b[38;5;241m=\u001b[39m \u001b[38;5;124m'\u001b[39m\u001b[38;5;124mHi Lucky\u001b[39m\u001b[38;5;124m'\u001b[39m\n\u001b[0;32m----> 2\u001b[0m \u001b[38;5;28mprint\u001b[39m(\u001b[38;5;28msorted\u001b[39m(\u001b[38;5;28;43mlist\u001b[39;49m\u001b[43m(\u001b[49m\u001b[43ms\u001b[49m\u001b[43m)\u001b[49m))\n",
      "\u001b[0;31mTypeError\u001b[0m: 'list' object is not callable"
     ]
    }
   ],
   "source": [
    "s = 'Hi Lucky'\n",
    "print(sorted(list(s)))"
   ]
  }
 ],
 "metadata": {
  "kernelspec": {
   "display_name": "Python 3",
   "language": "python",
   "name": "python3"
  },
  "language_info": {
   "codemirror_mode": {
    "name": "ipython",
    "version": 3
   },
   "file_extension": ".py",
   "mimetype": "text/x-python",
   "name": "python",
   "nbconvert_exporter": "python",
   "pygments_lexer": "ipython3",
   "version": "3.12.2"
  }
 },
 "nbformat": 4,
 "nbformat_minor": 2
}
